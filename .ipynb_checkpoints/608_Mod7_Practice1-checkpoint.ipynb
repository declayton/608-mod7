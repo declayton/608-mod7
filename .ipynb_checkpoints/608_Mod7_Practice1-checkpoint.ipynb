{
 "cells": [
  {
   "cell_type": "markdown",
   "id": "e838cc99-4327-455d-bf8a-1cda8c905619",
   "metadata": {},
   "source": [
    "Deanna Clayton Mod7 Ch10 Practice"
   ]
  },
  {
   "cell_type": "markdown",
   "id": "e99c6f63-8463-45ed-860a-aaa7fdaa8dfb",
   "metadata": {},
   "source": [
    "10.2 Custom Class Account"
   ]
  },
  {
   "cell_type": "code",
   "execution_count": 16,
   "id": "82367d69-e9ea-42f2-8f1c-d096cf5fb88a",
   "metadata": {},
   "outputs": [],
   "source": [
    "from account import Account"
   ]
  },
  {
   "cell_type": "code",
   "execution_count": 17,
   "id": "1a7a9704-17d9-4d83-a9a4-cbf9b07e3973",
   "metadata": {},
   "outputs": [],
   "source": [
    "from decimal import Decimal"
   ]
  },
  {
   "cell_type": "code",
   "execution_count": 18,
   "id": "30e390c3-ef8b-48d0-ac50-3c5f66dc2bc2",
   "metadata": {},
   "outputs": [],
   "source": [
    "value = Decimal('12.34')"
   ]
  },
  {
   "cell_type": "code",
   "execution_count": 19,
   "id": "9141bf6b-2c62-46a8-b17a-222ddf954ac6",
   "metadata": {},
   "outputs": [],
   "source": [
    "account1 = Account('John Green', Decimal('50.00'))"
   ]
  },
  {
   "cell_type": "code",
   "execution_count": 20,
   "id": "56710e77-360e-4c74-a9bd-e06e1a005760",
   "metadata": {},
   "outputs": [
    {
     "data": {
      "text/plain": [
       "'John Green'"
      ]
     },
     "execution_count": 20,
     "metadata": {},
     "output_type": "execute_result"
    }
   ],
   "source": [
    "account1.name"
   ]
  },
  {
   "cell_type": "code",
   "execution_count": 21,
   "id": "3a0eb51c-8fed-42c8-8b38-fd7eb3c5715a",
   "metadata": {},
   "outputs": [
    {
     "data": {
      "text/plain": [
       "Decimal('50.00')"
      ]
     },
     "execution_count": 21,
     "metadata": {},
     "output_type": "execute_result"
    }
   ],
   "source": [
    "account1.balance"
   ]
  },
  {
   "cell_type": "code",
   "execution_count": 22,
   "id": "179b00b2-ad99-4be8-b357-3e8564ca3b60",
   "metadata": {},
   "outputs": [],
   "source": [
    "account1.deposit(Decimal('25.53'))"
   ]
  },
  {
   "cell_type": "code",
   "execution_count": 23,
   "id": "d83ef575-fadd-491b-b43a-4a03c97976a1",
   "metadata": {},
   "outputs": [
    {
     "data": {
      "text/plain": [
       "Decimal('75.53')"
      ]
     },
     "execution_count": 23,
     "metadata": {},
     "output_type": "execute_result"
    }
   ],
   "source": [
    "account1.balance"
   ]
  },
  {
   "cell_type": "code",
   "execution_count": 24,
   "id": "2a65ac69-f560-41fa-bb84-a357d004b70f",
   "metadata": {},
   "outputs": [],
   "source": [
    "account1.withdraw(Decimal('20.00'))"
   ]
  },
  {
   "cell_type": "code",
   "execution_count": 25,
   "id": "318494fb-35a4-471a-9cbb-6f4cdbfae2bf",
   "metadata": {},
   "outputs": [
    {
     "data": {
      "text/plain": [
       "Decimal('55.53')"
      ]
     },
     "execution_count": 25,
     "metadata": {},
     "output_type": "execute_result"
    }
   ],
   "source": [
    "account1.balance"
   ]
  },
  {
   "cell_type": "markdown",
   "id": "e079924c-7a08-402d-9346-a36cda78ef61",
   "metadata": {},
   "source": [
    "10.3 Controlling Access to Attributes"
   ]
  },
  {
   "cell_type": "code",
   "execution_count": 27,
   "id": "7e6d1814-825e-43e8-bbbf-f77e02a9bb26",
   "metadata": {},
   "outputs": [],
   "source": [
    "account2 = Account('John Blue', Decimal('50.00'))"
   ]
  },
  {
   "cell_type": "code",
   "execution_count": 28,
   "id": "4b3be89b-6977-4c45-9870-b750cd1d948a",
   "metadata": {},
   "outputs": [],
   "source": [
    "account2.balance = Decimal('-1000.00')"
   ]
  },
  {
   "cell_type": "code",
   "execution_count": 29,
   "id": "52229261-1d2d-4c3c-b9c5-8e5d7d1a9b4c",
   "metadata": {},
   "outputs": [
    {
     "data": {
      "text/plain": [
       "Decimal('55.53')"
      ]
     },
     "execution_count": 29,
     "metadata": {},
     "output_type": "execute_result"
    }
   ],
   "source": [
    "account1.balance"
   ]
  },
  {
   "cell_type": "markdown",
   "id": "cc43f712-88ff-401f-adaf-8462ba5ece1d",
   "metadata": {},
   "source": [
    "10.4 Properties for Data Access"
   ]
  },
  {
   "cell_type": "code",
   "execution_count": 39,
   "id": "1863bdc7-e62a-4438-af2b-01db95f65901",
   "metadata": {},
   "outputs": [],
   "source": [
    "from timewithproperties import Time"
   ]
  },
  {
   "cell_type": "code",
   "execution_count": 40,
   "id": "a0f58689-c991-43fa-bc4b-cc67488e15cc",
   "metadata": {},
   "outputs": [],
   "source": [
    "wake_up = Time(hour=6, minute=30)"
   ]
  },
  {
   "cell_type": "code",
   "execution_count": 41,
   "id": "24e59f12-8944-4897-810a-12256ef5f940",
   "metadata": {},
   "outputs": [
    {
     "data": {
      "text/plain": [
       "Time(hour=6, minute=30, second=0)"
      ]
     },
     "execution_count": 41,
     "metadata": {},
     "output_type": "execute_result"
    }
   ],
   "source": [
    "wake_up"
   ]
  },
  {
   "cell_type": "code",
   "execution_count": 42,
   "id": "b62948e7-b82a-45b0-90f5-49f64a26e12c",
   "metadata": {},
   "outputs": [
    {
     "name": "stdout",
     "output_type": "stream",
     "text": [
      "6:30:00 AM\n"
     ]
    }
   ],
   "source": [
    "print(wake_up)"
   ]
  },
  {
   "cell_type": "code",
   "execution_count": 43,
   "id": "d7f621eb-c40c-412b-b932-ce7f80c62664",
   "metadata": {},
   "outputs": [
    {
     "data": {
      "text/plain": [
       "6"
      ]
     },
     "execution_count": 43,
     "metadata": {},
     "output_type": "execute_result"
    }
   ],
   "source": [
    "wake_up.hour"
   ]
  },
  {
   "cell_type": "code",
   "execution_count": 44,
   "id": "15f37860-04d8-4578-aca2-11e4ecbf7623",
   "metadata": {},
   "outputs": [],
   "source": [
    "wake_up.set_time(hour=7, minute=45)"
   ]
  },
  {
   "cell_type": "code",
   "execution_count": 45,
   "id": "08983ade-3c0f-4330-b665-863131e82e37",
   "metadata": {},
   "outputs": [
    {
     "data": {
      "text/plain": [
       "Time(hour=7, minute=45, second=0)"
      ]
     },
     "execution_count": 45,
     "metadata": {},
     "output_type": "execute_result"
    }
   ],
   "source": [
    "wake_up"
   ]
  },
  {
   "cell_type": "code",
   "execution_count": 46,
   "id": "cdaf11ec-8069-45d5-8630-e9e368823527",
   "metadata": {},
   "outputs": [],
   "source": [
    "wake_up.hour = 6"
   ]
  },
  {
   "cell_type": "code",
   "execution_count": 47,
   "id": "4c2b9217-c91c-4c14-9778-7f46339ddbf2",
   "metadata": {},
   "outputs": [
    {
     "data": {
      "text/plain": [
       "Time(hour=6, minute=45, second=0)"
      ]
     },
     "execution_count": 47,
     "metadata": {},
     "output_type": "execute_result"
    }
   ],
   "source": [
    "wake_up"
   ]
  },
  {
   "cell_type": "code",
   "execution_count": 48,
   "id": "78cc3858-41bc-4682-b779-5fcad59bd836",
   "metadata": {},
   "outputs": [],
   "source": [
    "t = Time()"
   ]
  },
  {
   "cell_type": "code",
   "execution_count": 49,
   "id": "1ac68e51-25f3-491e-89d3-5f95d26c4341",
   "metadata": {},
   "outputs": [
    {
     "data": {
      "text/plain": [
       "Time(hour=0, minute=0, second=0)"
      ]
     },
     "execution_count": 49,
     "metadata": {},
     "output_type": "execute_result"
    }
   ],
   "source": [
    "t"
   ]
  },
  {
   "cell_type": "code",
   "execution_count": 50,
   "id": "9786ec36-e8e0-4e99-b4b8-550118f28ab2",
   "metadata": {},
   "outputs": [],
   "source": [
    "t.time = (12, 30, 45)"
   ]
  },
  {
   "cell_type": "code",
   "execution_count": 52,
   "id": "97b5b470-e94b-43a4-8fcd-3ad1ead6ea3f",
   "metadata": {},
   "outputs": [
    {
     "data": {
      "text/plain": [
       "(12, 30, 45)"
      ]
     },
     "execution_count": 52,
     "metadata": {},
     "output_type": "execute_result"
    }
   ],
   "source": [
    "t.time"
   ]
  },
  {
   "cell_type": "markdown",
   "id": "bcd1be73-2786-4fd9-87e5-ad481f86f143",
   "metadata": {},
   "source": [
    "10.5 Simulating \"Private\" Attributes"
   ]
  },
  {
   "cell_type": "code",
   "execution_count": 59,
   "id": "effdf620-de9f-4bbc-8059-5f3a1f0c185f",
   "metadata": {},
   "outputs": [],
   "source": [
    "from private import PrivateClass"
   ]
  },
  {
   "cell_type": "code",
   "execution_count": 60,
   "id": "a8a70ebb-fe9e-4d3a-b441-1238f1c70ae7",
   "metadata": {},
   "outputs": [],
   "source": [
    "my_object = PrivateClass()"
   ]
  },
  {
   "cell_type": "code",
   "execution_count": 61,
   "id": "9505ad3c-3481-4a20-bb87-a1980f311163",
   "metadata": {},
   "outputs": [
    {
     "data": {
      "text/plain": [
       "'public'"
      ]
     },
     "execution_count": 61,
     "metadata": {},
     "output_type": "execute_result"
    }
   ],
   "source": [
    "my_object.public_data"
   ]
  },
  {
   "cell_type": "code",
   "execution_count": 62,
   "id": "191ed89d-2251-4a69-a944-cbddb6eec1e3",
   "metadata": {},
   "outputs": [
    {
     "ename": "AttributeError",
     "evalue": "'PrivateClass' object has no attribute 'private_data'",
     "output_type": "error",
     "traceback": [
      "\u001b[1;31m---------------------------------------------------------------------------\u001b[0m",
      "\u001b[1;31mAttributeError\u001b[0m                            Traceback (most recent call last)",
      "Input \u001b[1;32mIn [62]\u001b[0m, in \u001b[0;36m<cell line: 1>\u001b[1;34m()\u001b[0m\n\u001b[1;32m----> 1\u001b[0m \u001b[43mmy_object\u001b[49m\u001b[38;5;241;43m.\u001b[39;49m\u001b[43mprivate_data\u001b[49m\n",
      "\u001b[1;31mAttributeError\u001b[0m: 'PrivateClass' object has no attribute 'private_data'"
     ]
    }
   ],
   "source": [
    "my_object.private_data"
   ]
  },
  {
   "cell_type": "code",
   "execution_count": 63,
   "id": "d6fefc1b-92b2-42fd-bb09-be28fac33385",
   "metadata": {},
   "outputs": [
    {
     "data": {
      "text/plain": [
       "'private'"
      ]
     },
     "execution_count": 63,
     "metadata": {},
     "output_type": "execute_result"
    }
   ],
   "source": [
    "my_object._PrivateClass__private_data"
   ]
  },
  {
   "cell_type": "code",
   "execution_count": 64,
   "id": "d3bb9517-a2e5-4b3f-9c82-158717f8cc81",
   "metadata": {},
   "outputs": [],
   "source": [
    "my_object._PrivateClass__private_data = 'modified'"
   ]
  },
  {
   "cell_type": "code",
   "execution_count": 65,
   "id": "c9379b4f-11c3-4717-8e3d-90cd1bfd1440",
   "metadata": {},
   "outputs": [
    {
     "data": {
      "text/plain": [
       "'modified'"
      ]
     },
     "execution_count": 65,
     "metadata": {},
     "output_type": "execute_result"
    }
   ],
   "source": [
    "my_object._PrivateClass__private_data"
   ]
  },
  {
   "cell_type": "markdown",
   "id": "49c4f152-af04-43e7-994b-b5a8a65a388a",
   "metadata": {},
   "source": [
    "10.6 Case Study: Card Shuffling and Dealing Simulation"
   ]
  },
  {
   "cell_type": "code",
   "execution_count": 13,
   "id": "8f2f97c3-d57f-41bb-8f16-98f60b52c733",
   "metadata": {},
   "outputs": [],
   "source": [
    "from deck import DeckOfCards"
   ]
  },
  {
   "cell_type": "code",
   "execution_count": 14,
   "id": "194470a6-bf30-40dc-91b8-6595f3d1c659",
   "metadata": {},
   "outputs": [],
   "source": [
    "deck_of_cards = DeckOfCards()"
   ]
  },
  {
   "cell_type": "code",
   "execution_count": 15,
   "id": "04e95240-9791-4405-8a9d-71ff4ec0644e",
   "metadata": {},
   "outputs": [
    {
     "name": "stdout",
     "output_type": "stream",
     "text": [
      "Ace of Hearts      2 of Hearts        3 of Hearts        4 of Hearts        \n",
      "5 of Hearts        6 of Hearts        7 of Hearts        8 of Hearts        \n",
      "9 of Hearts        10 of Hearts       Jack of Hearts     Queen of Hearts    \n",
      "King of Hearts     Ace of Diamonds    2 of Diamonds      3 of Diamonds      \n",
      "4 of Diamonds      5 of Diamonds      6 of Diamonds      7 of Diamonds      \n",
      "8 of Diamonds      9 of Diamonds      10 of Diamonds     Jack of Diamonds   \n",
      "Queen of Diamonds  King of Diamonds   Ace of Clubs       2 of Clubs         \n",
      "3 of Clubs         4 of Clubs         5 of Clubs         6 of Clubs         \n",
      "7 of Clubs         8 of Clubs         9 of Clubs         10 of Clubs        \n",
      "Jack of Clubs      Queen of Clubs     King of Clubs      Ace of Spades      \n",
      "2 of Spades        3 of Spades        4 of Spades        5 of Spades        \n",
      "6 of Spades        7 of Spades        8 of Spades        9 of Spades        \n",
      "10 of Spades       Jack of Spades     Queen of Spades    King of Spades     \n",
      "\n"
     ]
    }
   ],
   "source": [
    "print(deck_of_cards)"
   ]
  },
  {
   "cell_type": "code",
   "execution_count": 16,
   "id": "640538cf-a4b7-4a69-a10a-9995fb4e66cc",
   "metadata": {},
   "outputs": [],
   "source": [
    "deck_of_cards.shuffle()"
   ]
  },
  {
   "cell_type": "code",
   "execution_count": 17,
   "id": "107b37f4-f61b-4329-8f76-6058b71bf094",
   "metadata": {},
   "outputs": [
    {
     "name": "stdout",
     "output_type": "stream",
     "text": [
      "9 of Clubs         2 of Hearts        10 of Diamonds     9 of Diamonds      \n",
      "Ace of Spades      8 of Spades        6 of Spades        7 of Clubs         \n",
      "4 of Diamonds      10 of Spades       Queen of Hearts    Queen of Clubs     \n",
      "9 of Hearts        4 of Spades        6 of Hearts        Jack of Spades     \n",
      "7 of Diamonds      2 of Diamonds      4 of Clubs         King of Diamonds   \n",
      "3 of Spades        5 of Diamonds      Queen of Diamonds  8 of Clubs         \n",
      "5 of Hearts        3 of Diamonds      3 of Hearts        10 of Hearts       \n",
      "6 of Clubs         5 of Spades        King of Clubs      Ace of Clubs       \n",
      "7 of Spades        7 of Hearts        4 of Hearts        King of Hearts     \n",
      "2 of Clubs         9 of Spades        10 of Clubs        3 of Clubs         \n",
      "8 of Diamonds      Queen of Spades    5 of Clubs         King of Spades     \n",
      "6 of Diamonds      8 of Hearts        Jack of Clubs      2 of Spades        \n",
      "Ace of Hearts      Jack of Hearts     Jack of Diamonds   Ace of Diamonds    \n",
      "\n"
     ]
    }
   ],
   "source": [
    "print(deck_of_cards)"
   ]
  },
  {
   "cell_type": "code",
   "execution_count": 18,
   "id": "510dfe91-501d-48b1-8acb-590b90eade78",
   "metadata": {},
   "outputs": [
    {
     "data": {
      "text/plain": [
       "Card(face='9', suit='Clubs')"
      ]
     },
     "execution_count": 18,
     "metadata": {},
     "output_type": "execute_result"
    }
   ],
   "source": [
    "deck_of_cards.deal_card()"
   ]
  },
  {
   "cell_type": "code",
   "execution_count": 19,
   "id": "304c8d45-52b6-4fc9-8b23-2a75ba77c2ee",
   "metadata": {},
   "outputs": [],
   "source": [
    "card = deck_of_cards.deal_card()"
   ]
  },
  {
   "cell_type": "code",
   "execution_count": 20,
   "id": "211f47ea-a0c2-425b-9936-60498c0c4fa2",
   "metadata": {},
   "outputs": [
    {
     "data": {
      "text/plain": [
       "'2 of Hearts'"
      ]
     },
     "execution_count": 20,
     "metadata": {},
     "output_type": "execute_result"
    }
   ],
   "source": [
    "str(card)"
   ]
  },
  {
   "cell_type": "code",
   "execution_count": 21,
   "id": "deee96fb-5fdb-42a8-aaf4-50d977ebed53",
   "metadata": {},
   "outputs": [
    {
     "data": {
      "text/plain": [
       "'2_of_Hearts.png'"
      ]
     },
     "execution_count": 21,
     "metadata": {},
     "output_type": "execute_result"
    }
   ],
   "source": [
    "card.image_name"
   ]
  },
  {
   "cell_type": "code",
   "execution_count": 4,
   "id": "81de32fe-cc75-484a-bfbd-ffee21bb9124",
   "metadata": {},
   "outputs": [
    {
     "name": "stdout",
     "output_type": "stream",
     "text": [
      "Using matplotlib backend: <object object at 0x0000026FA6726310>\n"
     ]
    }
   ],
   "source": [
    "%matplotlib"
   ]
  },
  {
   "cell_type": "code",
   "execution_count": 5,
   "id": "54ed5066-225a-4c3d-ac4e-0c1e5559ea1c",
   "metadata": {},
   "outputs": [],
   "source": [
    "from deck import DeckOfCards"
   ]
  },
  {
   "cell_type": "code",
   "execution_count": 6,
   "id": "6a0caab3-685e-4e0d-9854-c73dd74c1dcd",
   "metadata": {},
   "outputs": [],
   "source": [
    "deck_of_cards = DeckOfCards()"
   ]
  },
  {
   "cell_type": "code",
   "execution_count": 7,
   "id": "f3ee69d9-4afe-4200-8c15-373be410b0cf",
   "metadata": {},
   "outputs": [],
   "source": [
    "from pathlib import Path"
   ]
  },
  {
   "cell_type": "code",
   "execution_count": 8,
   "id": "e2a3711f-65e3-4218-9060-1c50a8186071",
   "metadata": {},
   "outputs": [],
   "source": [
    "path = Path('.').joinpath('card_images')"
   ]
  },
  {
   "cell_type": "code",
   "execution_count": 9,
   "id": "d00cd633-cb34-4078-aa9d-55d196e8b023",
   "metadata": {},
   "outputs": [],
   "source": [
    "import matplotlib.pyplot as plt"
   ]
  },
  {
   "cell_type": "code",
   "execution_count": 10,
   "id": "614e9cf9-f0c0-4274-b8e2-a9786e211abe",
   "metadata": {},
   "outputs": [],
   "source": [
    "import matplotlib.image as mpimg"
   ]
  },
  {
   "cell_type": "code",
   "execution_count": 12,
   "id": "12749377-32c5-43da-8516-65af286c352b",
   "metadata": {},
   "outputs": [],
   "source": [
    "figure, axes_list = plt.subplots(nrows=4, ncols=13)"
   ]
  },
  {
   "cell_type": "code",
   "execution_count": 13,
   "id": "3a526d4b-da4a-46da-a022-9c845aa01039",
   "metadata": {},
   "outputs": [],
   "source": [
    "for axes in axes_list.ravel():\n",
    "    axes.get_xaxis().set_visible(False)\n",
    "    axes.get_yaxis().set_visible(False)\n",
    "    image_name = deck_of_cards.deal_card().image_name\n",
    "    img = mpimg.imread(str(path.joinpath(image_name).resolve()))\n",
    "    axes.imshow(img)"
   ]
  },
  {
   "cell_type": "code",
   "execution_count": 14,
   "id": "d4eb76a9-30de-45a6-a914-b5a3bdd26992",
   "metadata": {},
   "outputs": [],
   "source": [
    "deck_of_cards.shuffle()"
   ]
  },
  {
   "cell_type": "code",
   "execution_count": 15,
   "id": "0851774c-fc14-49e2-bb0a-0a03a3b9259e",
   "metadata": {},
   "outputs": [],
   "source": [
    "figure, axes_list = plt.subplots(nrows=2, ncols=5)"
   ]
  },
  {
   "cell_type": "code",
   "execution_count": 16,
   "id": "b06bec57-fe9e-4fbc-bfd9-2248476bca3c",
   "metadata": {},
   "outputs": [],
   "source": [
    "for axes in axes_list.ravel():\n",
    "    axes.get_xaxis().set_visible(False)\n",
    "    axes.get_yaxis().set_visible(False)\n",
    "    image_name = deck_of_cards.deal_card().image_name\n",
    "    img = mpimg.imread(str(path.joinpath(image_name).resolve()))\n",
    "    axes.imshow(img)"
   ]
  },
  {
   "cell_type": "code",
   "execution_count": 17,
   "id": "5e44412c-0c10-4b7d-9906-8e55329938f8",
   "metadata": {},
   "outputs": [],
   "source": [
    "figure.tight_layout()"
   ]
  },
  {
   "cell_type": "markdown",
   "id": "1042d2de-d14f-4f10-a498-d25eda2fb78c",
   "metadata": {},
   "source": [
    "10.8 Building an Inheritance Hierarchy; Introducing Polymorphism"
   ]
  },
  {
   "cell_type": "code",
   "execution_count": 1,
   "id": "dc54fdbe-0196-46ba-a387-cd980e8a089b",
   "metadata": {},
   "outputs": [],
   "source": [
    "from commissionemployee import CommissionEmployee"
   ]
  },
  {
   "cell_type": "code",
   "execution_count": 2,
   "id": "6ee51933-3d1c-488f-b6d1-e04e4bd8f0db",
   "metadata": {},
   "outputs": [],
   "source": [
    "from decimal import Decimal"
   ]
  },
  {
   "cell_type": "code",
   "execution_count": 3,
   "id": "6107ae13-e996-4925-ba6c-cef72fc8dc7b",
   "metadata": {},
   "outputs": [],
   "source": [
    "c = CommissionEmployee('Sue', 'Jones', '333-33-3333', Decimal('10000.00'), Decimal('0.06'))"
   ]
  },
  {
   "cell_type": "code",
   "execution_count": 4,
   "id": "d1712698-9911-41b8-9d11-23ee40114f96",
   "metadata": {},
   "outputs": [
    {
     "data": {
      "text/plain": [
       "CommissionEmployee: Sue Jones\n",
       "social security number: 333-33-3333\n",
       "gross sales: 10000.00\n",
       "commission rate: 0.06"
      ]
     },
     "execution_count": 4,
     "metadata": {},
     "output_type": "execute_result"
    }
   ],
   "source": [
    "c"
   ]
  },
  {
   "cell_type": "code",
   "execution_count": 5,
   "id": "f079e45d-7e26-40bd-833c-6e27eb40f795",
   "metadata": {},
   "outputs": [
    {
     "name": "stdout",
     "output_type": "stream",
     "text": [
      "600.00\n"
     ]
    }
   ],
   "source": [
    "print(f'{c.earnings():,.2f}')"
   ]
  },
  {
   "cell_type": "code",
   "execution_count": 6,
   "id": "f4d88ca6-6190-4963-92de-0af53172224c",
   "metadata": {},
   "outputs": [],
   "source": [
    "c.gross_sales = Decimal('20000.00')"
   ]
  },
  {
   "cell_type": "code",
   "execution_count": 7,
   "id": "1f50ae82-f3f0-4495-b1b1-e900bd643c23",
   "metadata": {},
   "outputs": [],
   "source": [
    "c.commission_rate = Decimal('0.1')"
   ]
  },
  {
   "cell_type": "code",
   "execution_count": 8,
   "id": "202c0288-e643-474b-b8ba-27c28064e5cc",
   "metadata": {},
   "outputs": [
    {
     "name": "stdout",
     "output_type": "stream",
     "text": [
      "2,000.00\n"
     ]
    }
   ],
   "source": [
    "print(f'{c.earnings():,.2f}')"
   ]
  },
  {
   "cell_type": "code",
   "execution_count": 9,
   "id": "e178e244-778d-4827-bd0c-4472626dd101",
   "metadata": {},
   "outputs": [],
   "source": [
    "from salariedcommissionemployee import SalariedCommissionEmployee"
   ]
  },
  {
   "cell_type": "code",
   "execution_count": 11,
   "id": "9161ce8b-2718-4468-bcd3-148284978355",
   "metadata": {},
   "outputs": [],
   "source": [
    "s = SalariedCommissionEmployee('Bob', 'Lewis', '444-44-4444', Decimal('5000.00'), Decimal('0.01'), Decimal('300.00'))"
   ]
  },
  {
   "cell_type": "code",
   "execution_count": 12,
   "id": "17032301-6e41-432e-86eb-6aafc2f7fbdb",
   "metadata": {},
   "outputs": [
    {
     "name": "stdout",
     "output_type": "stream",
     "text": [
      "Bob Lewis 444-44-4444 5000.00 0.01 300.00\n"
     ]
    }
   ],
   "source": [
    "print(s.first_name, s.last_name, s.ssn, s.gross_sales, s.commission_rate, s.base_salary)"
   ]
  },
  {
   "cell_type": "code",
   "execution_count": 13,
   "id": "347b3950-45cb-4df3-87a4-b3737babc976",
   "metadata": {},
   "outputs": [
    {
     "name": "stdout",
     "output_type": "stream",
     "text": [
      "350.00\n"
     ]
    }
   ],
   "source": [
    "print(f'{s.earnings():,.2f}')"
   ]
  },
  {
   "cell_type": "code",
   "execution_count": 14,
   "id": "2729c74e-58ba-48ae-a79a-2393a969225c",
   "metadata": {},
   "outputs": [],
   "source": [
    "s.gross_sales = Decimal('10000.00')"
   ]
  },
  {
   "cell_type": "code",
   "execution_count": 15,
   "id": "ce2c2022-a087-4f10-a6fe-7424630e40c0",
   "metadata": {},
   "outputs": [],
   "source": [
    "s.commission_rate = Decimal('0.05')"
   ]
  },
  {
   "cell_type": "code",
   "execution_count": 16,
   "id": "2e884549-f96c-483e-9eb9-4aedb6e4fae7",
   "metadata": {},
   "outputs": [],
   "source": [
    "s.base_salary = Decimal('1000.00')"
   ]
  },
  {
   "cell_type": "code",
   "execution_count": 17,
   "id": "980dea56-f644-451a-9462-fecfcdd7a324",
   "metadata": {},
   "outputs": [
    {
     "name": "stdout",
     "output_type": "stream",
     "text": [
      "SalariedCommissionEmployee: Bob Lewis\n",
      "social security number: 444-44-4444\n",
      "gross sales: 10000.00\n",
      "commission rate: 0.05\n",
      "base salary: 1000.00\n"
     ]
    }
   ],
   "source": [
    "print(s)"
   ]
  },
  {
   "cell_type": "code",
   "execution_count": 18,
   "id": "daa773a0-43bd-4abc-ad25-a56a022a0d2e",
   "metadata": {},
   "outputs": [
    {
     "name": "stdout",
     "output_type": "stream",
     "text": [
      "1,500.00\n"
     ]
    }
   ],
   "source": [
    "print(f'{s.earnings():,.2f}')"
   ]
  },
  {
   "cell_type": "code",
   "execution_count": 19,
   "id": "39c880c0-6030-4f4e-8cb1-340620eb571c",
   "metadata": {},
   "outputs": [
    {
     "data": {
      "text/plain": [
       "True"
      ]
     },
     "execution_count": 19,
     "metadata": {},
     "output_type": "execute_result"
    }
   ],
   "source": [
    "issubclass(SalariedCommissionEmployee, CommissionEmployee)"
   ]
  },
  {
   "cell_type": "code",
   "execution_count": 20,
   "id": "20ad929f-5695-4540-b4f4-3a0107ece4f8",
   "metadata": {},
   "outputs": [
    {
     "data": {
      "text/plain": [
       "True"
      ]
     },
     "execution_count": 20,
     "metadata": {},
     "output_type": "execute_result"
    }
   ],
   "source": [
    "isinstance(s, CommissionEmployee)"
   ]
  },
  {
   "cell_type": "code",
   "execution_count": 21,
   "id": "f1ba29d9-3321-40fd-b501-690b941a5a5e",
   "metadata": {},
   "outputs": [],
   "source": [
    "employees = [c, s]"
   ]
  },
  {
   "cell_type": "code",
   "execution_count": 25,
   "id": "16a3341b-82b1-4558-a9bd-195b973c7193",
   "metadata": {},
   "outputs": [
    {
     "name": "stdout",
     "output_type": "stream",
     "text": [
      "CommissionEmployee: Sue Jones\n",
      "social security number: 333-33-3333\n",
      "gross sales: 20000.00\n",
      "commission rate: 0.10\n",
      "2,000.00\n",
      "\n",
      "SalariedCommissionEmployee: Bob Lewis\n",
      "social security number: 444-44-4444\n",
      "gross sales: 10000.00\n",
      "commission rate: 0.05\n",
      "base salary: 1000.00\n",
      "1,500.00\n",
      "\n"
     ]
    }
   ],
   "source": [
    "for employee in employees:\n",
    "    print(employee)\n",
    "    print(f'{employee.earnings():,.2f}\\n')"
   ]
  },
  {
   "cell_type": "markdown",
   "id": "ea2bb82d-8676-4a9f-b232-c25214d68b3b",
   "metadata": {},
   "source": [
    "10.9 Duck typing and Polymorphism"
   ]
  },
  {
   "cell_type": "code",
   "execution_count": 26,
   "id": "3a74e6b7-5f0f-4c42-b8c2-897690903a5b",
   "metadata": {},
   "outputs": [],
   "source": [
    "class WellPaidDuck:\n",
    "    def __repr__(self):\n",
    "        return 'I am a well-paid duck'\n",
    "    def earnings(self):\n",
    "        return Decimal('1_000_000.00')"
   ]
  },
  {
   "cell_type": "code",
   "execution_count": 27,
   "id": "88d1bc39-ecc5-44ad-b705-ad5ff0660bb2",
   "metadata": {},
   "outputs": [],
   "source": [
    "from decimal import Decimal"
   ]
  },
  {
   "cell_type": "code",
   "execution_count": 28,
   "id": "bc6363c4-3a83-4a18-8e19-3b0235672c69",
   "metadata": {},
   "outputs": [],
   "source": [
    "d = WellPaidDuck()"
   ]
  },
  {
   "cell_type": "code",
   "execution_count": 29,
   "id": "3302cba1-b3ca-4fac-b8f3-47f41f4cbebc",
   "metadata": {},
   "outputs": [],
   "source": [
    "employees = [c, s, d]"
   ]
  },
  {
   "cell_type": "code",
   "execution_count": 30,
   "id": "6c443c0f-d3bd-4002-9b6a-59d751d97df2",
   "metadata": {},
   "outputs": [
    {
     "name": "stdout",
     "output_type": "stream",
     "text": [
      "CommissionEmployee: Sue Jones\n",
      "social security number: 333-33-3333\n",
      "gross sales: 20000.00\n",
      "commission rate: 0.10\n",
      "2,000.00\n",
      "\n",
      "SalariedCommissionEmployee: Bob Lewis\n",
      "social security number: 444-44-4444\n",
      "gross sales: 10000.00\n",
      "commission rate: 0.05\n",
      "base salary: 1000.00\n",
      "1,500.00\n",
      "\n",
      "I am a well-paid duck\n",
      "1,000,000.00\n",
      "\n"
     ]
    }
   ],
   "source": [
    "for employee in employees:\n",
    "    print(employee)\n",
    "    print(f'{employee.earnings():,.2f}\\n')"
   ]
  },
  {
   "cell_type": "markdown",
   "id": "5aa053b7-caf9-405d-b0c4-93e25d3855be",
   "metadata": {},
   "source": [
    "10.10 Operator Overloading"
   ]
  },
  {
   "cell_type": "code",
   "execution_count": 45,
   "id": "e21bd738-a134-4e7b-a448-76daf2dc248f",
   "metadata": {},
   "outputs": [],
   "source": [
    "from complexnumber import Complex"
   ]
  },
  {
   "cell_type": "code",
   "execution_count": 46,
   "id": "ad4f0ebb-6678-4102-9849-bc8ef1e916f0",
   "metadata": {},
   "outputs": [],
   "source": [
    "x = Complex(real=2, imaginary=4)"
   ]
  },
  {
   "cell_type": "code",
   "execution_count": 47,
   "id": "a3187d5d-a847-4647-ba89-41e21ea86165",
   "metadata": {},
   "outputs": [
    {
     "data": {
      "text/plain": [
       "(2 + 4i)"
      ]
     },
     "execution_count": 47,
     "metadata": {},
     "output_type": "execute_result"
    }
   ],
   "source": [
    "x"
   ]
  },
  {
   "cell_type": "code",
   "execution_count": 48,
   "id": "f9e52371-29c0-406e-a8de-609846efcbbd",
   "metadata": {},
   "outputs": [],
   "source": [
    "y = Complex(real=5, imaginary=-1)"
   ]
  },
  {
   "cell_type": "code",
   "execution_count": 49,
   "id": "eb3ad312-6e2c-45ea-85d1-8adba6601226",
   "metadata": {},
   "outputs": [
    {
     "data": {
      "text/plain": [
       "(5 - 1i)"
      ]
     },
     "execution_count": 49,
     "metadata": {},
     "output_type": "execute_result"
    }
   ],
   "source": [
    "y"
   ]
  },
  {
   "cell_type": "code",
   "execution_count": 50,
   "id": "6ee55029-d7d8-4a2b-aff3-4605bd0ad607",
   "metadata": {},
   "outputs": [
    {
     "data": {
      "text/plain": [
       "(7 + 3i)"
      ]
     },
     "execution_count": 50,
     "metadata": {},
     "output_type": "execute_result"
    }
   ],
   "source": [
    "x+y"
   ]
  },
  {
   "cell_type": "code",
   "execution_count": 51,
   "id": "3d4300c0-9c20-48e8-9dfb-90ee0ca74b9e",
   "metadata": {},
   "outputs": [
    {
     "data": {
      "text/plain": [
       "(2 + 4i)"
      ]
     },
     "execution_count": 51,
     "metadata": {},
     "output_type": "execute_result"
    }
   ],
   "source": [
    "x"
   ]
  },
  {
   "cell_type": "code",
   "execution_count": 52,
   "id": "0a797729-0d58-4265-b753-0c8b027f9156",
   "metadata": {},
   "outputs": [
    {
     "data": {
      "text/plain": [
       "(5 - 1i)"
      ]
     },
     "execution_count": 52,
     "metadata": {},
     "output_type": "execute_result"
    }
   ],
   "source": [
    "y"
   ]
  },
  {
   "cell_type": "code",
   "execution_count": 53,
   "id": "05db4b5e-2fa8-4394-95a8-e1dcb7af420e",
   "metadata": {},
   "outputs": [],
   "source": [
    "x += y"
   ]
  },
  {
   "cell_type": "code",
   "execution_count": 54,
   "id": "baf861e9-2230-472d-9eaa-16eb2b79d8a9",
   "metadata": {},
   "outputs": [
    {
     "data": {
      "text/plain": [
       "(7 + 3i)"
      ]
     },
     "execution_count": 54,
     "metadata": {},
     "output_type": "execute_result"
    }
   ],
   "source": [
    "x"
   ]
  },
  {
   "cell_type": "code",
   "execution_count": 55,
   "id": "b0c53e43-0139-4fbf-a6d3-9ff1f67cb49b",
   "metadata": {},
   "outputs": [
    {
     "data": {
      "text/plain": [
       "(5 - 1i)"
      ]
     },
     "execution_count": 55,
     "metadata": {},
     "output_type": "execute_result"
    }
   ],
   "source": [
    "y"
   ]
  },
  {
   "cell_type": "code",
   "execution_count": 56,
   "id": "35df4d73-be07-4b3f-bada-68605097941e",
   "metadata": {},
   "outputs": [],
   "source": [
    "from complexnumber2 import Complex"
   ]
  },
  {
   "cell_type": "code",
   "execution_count": 57,
   "id": "a8a2348e-7844-49a3-9dc4-4a76f5a9fa0c",
   "metadata": {},
   "outputs": [],
   "source": [
    "x = Complex(real=2, imaginary=4)"
   ]
  },
  {
   "cell_type": "code",
   "execution_count": 58,
   "id": "3ca8de29-e799-4f6b-9206-4877d921a6e0",
   "metadata": {},
   "outputs": [],
   "source": [
    "y = Complex(real=5, imaginary=-1)"
   ]
  },
  {
   "cell_type": "code",
   "execution_count": 60,
   "id": "b4906c10-250d-4480-a083-8b9297553fbb",
   "metadata": {},
   "outputs": [
    {
     "data": {
      "text/plain": [
       "(-3 + 5i)"
      ]
     },
     "execution_count": 60,
     "metadata": {},
     "output_type": "execute_result"
    }
   ],
   "source": [
    "x-y"
   ]
  },
  {
   "cell_type": "code",
   "execution_count": 61,
   "id": "756c422b-77dd-496b-91ac-19995e9a9e16",
   "metadata": {},
   "outputs": [],
   "source": [
    "x -= y"
   ]
  },
  {
   "cell_type": "code",
   "execution_count": 62,
   "id": "ebd97168-cbee-4e99-ba87-d07d9cb48581",
   "metadata": {},
   "outputs": [
    {
     "data": {
      "text/plain": [
       "(-3 + 5i)"
      ]
     },
     "execution_count": 62,
     "metadata": {},
     "output_type": "execute_result"
    }
   ],
   "source": [
    "x"
   ]
  },
  {
   "cell_type": "code",
   "execution_count": 63,
   "id": "645e1bb7-1b49-4d75-bade-96c3f4feea95",
   "metadata": {},
   "outputs": [
    {
     "data": {
      "text/plain": [
       "(5 - 1i)"
      ]
     },
     "execution_count": 63,
     "metadata": {},
     "output_type": "execute_result"
    }
   ],
   "source": [
    "y"
   ]
  },
  {
   "cell_type": "markdown",
   "id": "2091e3c1-dee7-448c-9e49-f37c1f32ea48",
   "metadata": {},
   "source": [
    "10.12 Named Tuples"
   ]
  },
  {
   "cell_type": "code",
   "execution_count": 64,
   "id": "02bc47f6-36e5-4423-a43f-3b72201f9fe7",
   "metadata": {},
   "outputs": [],
   "source": [
    "from collections import namedtuple"
   ]
  },
  {
   "cell_type": "code",
   "execution_count": 65,
   "id": "c2d3e441-fe96-4c57-abe5-dc40e59e47b4",
   "metadata": {},
   "outputs": [],
   "source": [
    "Card = namedtuple('Card', ['face', 'suit'])"
   ]
  },
  {
   "cell_type": "code",
   "execution_count": 66,
   "id": "717d6484-a732-4a03-a87e-d722a48614f9",
   "metadata": {},
   "outputs": [],
   "source": [
    "card = Card(face='Ace', suit='Spades')"
   ]
  },
  {
   "cell_type": "code",
   "execution_count": 67,
   "id": "b65ae196-2154-4a98-935f-6ec70bb8653e",
   "metadata": {},
   "outputs": [
    {
     "data": {
      "text/plain": [
       "'Ace'"
      ]
     },
     "execution_count": 67,
     "metadata": {},
     "output_type": "execute_result"
    }
   ],
   "source": [
    "card.face"
   ]
  },
  {
   "cell_type": "code",
   "execution_count": 68,
   "id": "cad2240e-737e-4c8a-bcf0-fde3b367a71f",
   "metadata": {},
   "outputs": [
    {
     "data": {
      "text/plain": [
       "'Spades'"
      ]
     },
     "execution_count": 68,
     "metadata": {},
     "output_type": "execute_result"
    }
   ],
   "source": [
    "card.suit"
   ]
  },
  {
   "cell_type": "code",
   "execution_count": 69,
   "id": "81c1ebe6-979e-42f4-b047-957f510f0ab2",
   "metadata": {},
   "outputs": [
    {
     "data": {
      "text/plain": [
       "Card(face='Ace', suit='Spades')"
      ]
     },
     "execution_count": 69,
     "metadata": {},
     "output_type": "execute_result"
    }
   ],
   "source": [
    "card"
   ]
  },
  {
   "cell_type": "code",
   "execution_count": 70,
   "id": "febfac5a-dd67-4cb4-bfc1-ed5981dc457f",
   "metadata": {},
   "outputs": [],
   "source": [
    "values = ['Queen', 'Hearts']"
   ]
  },
  {
   "cell_type": "code",
   "execution_count": 71,
   "id": "da504260-c82b-4c22-b6cb-ecaac1b4e71f",
   "metadata": {},
   "outputs": [],
   "source": [
    "card = Card._make(values)"
   ]
  },
  {
   "cell_type": "code",
   "execution_count": 72,
   "id": "e3fd6adc-cdee-44b0-8e18-c332c260c478",
   "metadata": {},
   "outputs": [
    {
     "data": {
      "text/plain": [
       "Card(face='Queen', suit='Hearts')"
      ]
     },
     "execution_count": 72,
     "metadata": {},
     "output_type": "execute_result"
    }
   ],
   "source": [
    "card"
   ]
  },
  {
   "cell_type": "code",
   "execution_count": 77,
   "id": "d8b77780-1dd4-411e-834d-fd2169dad799",
   "metadata": {},
   "outputs": [
    {
     "data": {
      "text/plain": [
       "{'face': 'Queen', 'suit': 'Hearts'}"
      ]
     },
     "execution_count": 77,
     "metadata": {},
     "output_type": "execute_result"
    }
   ],
   "source": [
    "card._asdict()"
   ]
  },
  {
   "cell_type": "code",
   "execution_count": 78,
   "id": "76549017-7582-4e64-85af-7fcc0676a94f",
   "metadata": {},
   "outputs": [],
   "source": [
    "Time = namedtuple('Time', ['hour', 'minute', 'second'])"
   ]
  },
  {
   "cell_type": "code",
   "execution_count": 79,
   "id": "c941ec84-4342-4b3b-ba3f-b254cce99e23",
   "metadata": {},
   "outputs": [],
   "source": [
    "t = Time(13, 30, 45)"
   ]
  },
  {
   "cell_type": "code",
   "execution_count": 80,
   "id": "a6e03138-f0af-4d84-ada1-9de57c62e7d3",
   "metadata": {},
   "outputs": [
    {
     "name": "stdout",
     "output_type": "stream",
     "text": [
      "13 30 45\n"
     ]
    }
   ],
   "source": [
    "print(t.hour, t.minute, t.second)"
   ]
  },
  {
   "cell_type": "code",
   "execution_count": 81,
   "id": "3b4f1f71-72bb-4237-ab4d-52bd47de9398",
   "metadata": {},
   "outputs": [
    {
     "data": {
      "text/plain": [
       "Time(hour=13, minute=30, second=45)"
      ]
     },
     "execution_count": 81,
     "metadata": {},
     "output_type": "execute_result"
    }
   ],
   "source": [
    "t"
   ]
  },
  {
   "cell_type": "markdown",
   "id": "81214ce3-85d4-4e69-8565-8dba6c29f482",
   "metadata": {},
   "source": [
    "10.13 A Brief Intro to Python 3.7's New Data Classes"
   ]
  },
  {
   "cell_type": "code",
   "execution_count": 82,
   "id": "1d6b8176-1486-431c-99b1-105006dde7a7",
   "metadata": {},
   "outputs": [],
   "source": [
    "from carddataclass import Card"
   ]
  },
  {
   "cell_type": "code",
   "execution_count": 83,
   "id": "4bfb02ef-2cc9-420c-aa14-c91407933442",
   "metadata": {},
   "outputs": [],
   "source": [
    "c1 = Card(Card.FACES[0], Card.SUITS[3])"
   ]
  },
  {
   "cell_type": "code",
   "execution_count": 84,
   "id": "accb5459-31d0-444f-b494-99d33c22150c",
   "metadata": {},
   "outputs": [
    {
     "data": {
      "text/plain": [
       "Card(face='Ace', suit='Spades')"
      ]
     },
     "execution_count": 84,
     "metadata": {},
     "output_type": "execute_result"
    }
   ],
   "source": [
    "c1"
   ]
  },
  {
   "cell_type": "code",
   "execution_count": 86,
   "id": "e4bc2819-fb6c-438d-bdc0-63f80055787c",
   "metadata": {},
   "outputs": [
    {
     "name": "stdout",
     "output_type": "stream",
     "text": [
      "Ace of Spades\n"
     ]
    }
   ],
   "source": [
    "print(c1)"
   ]
  },
  {
   "cell_type": "code",
   "execution_count": 87,
   "id": "be56b792-411c-414f-acbe-d3d79c44d741",
   "metadata": {},
   "outputs": [
    {
     "data": {
      "text/plain": [
       "'Ace'"
      ]
     },
     "execution_count": 87,
     "metadata": {},
     "output_type": "execute_result"
    }
   ],
   "source": [
    "c1.face"
   ]
  },
  {
   "cell_type": "code",
   "execution_count": 88,
   "id": "bf9ef13c-2974-45a1-a8d5-58bbd1768e6f",
   "metadata": {},
   "outputs": [
    {
     "data": {
      "text/plain": [
       "'Spades'"
      ]
     },
     "execution_count": 88,
     "metadata": {},
     "output_type": "execute_result"
    }
   ],
   "source": [
    "c1.suit"
   ]
  },
  {
   "cell_type": "code",
   "execution_count": 89,
   "id": "bf8b8d33-21d2-447a-96f2-46f54fc61958",
   "metadata": {},
   "outputs": [
    {
     "data": {
      "text/plain": [
       "'Ace_of_Spades.png'"
      ]
     },
     "execution_count": 89,
     "metadata": {},
     "output_type": "execute_result"
    }
   ],
   "source": [
    "c1.image_name"
   ]
  },
  {
   "cell_type": "code",
   "execution_count": 98,
   "id": "853ad9aa-29e9-4689-9ad2-610eaaa8b5ed",
   "metadata": {},
   "outputs": [],
   "source": [
    "c2 = Card(Card.FACES[0], Card.SUITS[3])"
   ]
  },
  {
   "cell_type": "code",
   "execution_count": 99,
   "id": "9af1b102-6ec3-4006-95f0-acba93bfd7d1",
   "metadata": {},
   "outputs": [
    {
     "data": {
      "text/plain": [
       "Card(face='Ace', suit='Spades')"
      ]
     },
     "execution_count": 99,
     "metadata": {},
     "output_type": "execute_result"
    }
   ],
   "source": [
    "c2"
   ]
  },
  {
   "cell_type": "code",
   "execution_count": 100,
   "id": "0a3807d3-ddc6-4451-933a-3d4c3c2227fa",
   "metadata": {},
   "outputs": [],
   "source": [
    "c3 = Card(Card.FACES[0], Card.SUITS[0])"
   ]
  },
  {
   "cell_type": "code",
   "execution_count": 101,
   "id": "308b82a8-7777-47fb-bc91-30bf7bfc38b3",
   "metadata": {},
   "outputs": [
    {
     "data": {
      "text/plain": [
       "Card(face='Ace', suit='Hearts')"
      ]
     },
     "execution_count": 101,
     "metadata": {},
     "output_type": "execute_result"
    }
   ],
   "source": [
    "c3"
   ]
  },
  {
   "cell_type": "code",
   "execution_count": 102,
   "id": "fc10aad6-5c26-443b-b275-b5d6e92d62cc",
   "metadata": {},
   "outputs": [
    {
     "data": {
      "text/plain": [
       "True"
      ]
     },
     "execution_count": 102,
     "metadata": {},
     "output_type": "execute_result"
    }
   ],
   "source": [
    "c1 == c2"
   ]
  },
  {
   "cell_type": "code",
   "execution_count": 103,
   "id": "f25b914f-8978-4ca6-998c-022e36337ea1",
   "metadata": {},
   "outputs": [
    {
     "data": {
      "text/plain": [
       "True"
      ]
     },
     "execution_count": 103,
     "metadata": {},
     "output_type": "execute_result"
    }
   ],
   "source": [
    "c1 != c3"
   ]
  },
  {
   "cell_type": "code",
   "execution_count": 104,
   "id": "f6fb79ee-0d02-4e7d-8f87-a152ccaa748e",
   "metadata": {},
   "outputs": [],
   "source": [
    "from deck2 import DeckOfCards"
   ]
  },
  {
   "cell_type": "code",
   "execution_count": 105,
   "id": "8cbd1445-eb8d-4c90-aa97-fe2732d7286e",
   "metadata": {},
   "outputs": [],
   "source": [
    "deck_of_cards = DeckOfCards()"
   ]
  },
  {
   "cell_type": "code",
   "execution_count": 106,
   "id": "94e05ada-2f61-47fc-aa6e-c75e0d86f263",
   "metadata": {},
   "outputs": [
    {
     "name": "stdout",
     "output_type": "stream",
     "text": [
      "Ace of Hearts      2 of Hearts        3 of Hearts        4 of Hearts        \n",
      "5 of Hearts        6 of Hearts        7 of Hearts        8 of Hearts        \n",
      "9 of Hearts        10 of Hearts       Jack of Hearts     Queen of Hearts    \n",
      "King of Hearts     Ace of Diamonds    2 of Diamonds      3 of Diamonds      \n",
      "4 of Diamonds      5 of Diamonds      6 of Diamonds      7 of Diamonds      \n",
      "8 of Diamonds      9 of Diamonds      10 of Diamonds     Jack of Diamonds   \n",
      "Queen of Diamonds  King of Diamonds   Ace of Clubs       2 of Clubs         \n",
      "3 of Clubs         4 of Clubs         5 of Clubs         6 of Clubs         \n",
      "7 of Clubs         8 of Clubs         9 of Clubs         10 of Clubs        \n",
      "Jack of Clubs      Queen of Clubs     King of Clubs      Ace of Spades      \n",
      "2 of Spades        3 of Spades        4 of Spades        5 of Spades        \n",
      "6 of Spades        7 of Spades        8 of Spades        9 of Spades        \n",
      "10 of Spades       Jack of Spades     Queen of Spades    King of Spades     \n",
      "\n"
     ]
    }
   ],
   "source": [
    "print(deck_of_cards)"
   ]
  },
  {
   "cell_type": "code",
   "execution_count": 107,
   "id": "29d3f66e-afc6-45bf-825a-8a4f605c3791",
   "metadata": {},
   "outputs": [],
   "source": [
    "from carddataclass import Card"
   ]
  },
  {
   "cell_type": "code",
   "execution_count": 108,
   "id": "fcd6f9d1-9bc3-40e2-8b37-597a3c4a31d3",
   "metadata": {},
   "outputs": [],
   "source": [
    "c = Card('Ace', 'Spades')"
   ]
  },
  {
   "cell_type": "code",
   "execution_count": 109,
   "id": "6b244c1c-6eb6-40da-95ae-e4cb48de934c",
   "metadata": {},
   "outputs": [
    {
     "data": {
      "text/plain": [
       "Card(face='Ace', suit='Spades')"
      ]
     },
     "execution_count": 109,
     "metadata": {},
     "output_type": "execute_result"
    }
   ],
   "source": [
    "c"
   ]
  },
  {
   "cell_type": "code",
   "execution_count": 110,
   "id": "76bc869d-6ce0-4924-991b-e826057aff8b",
   "metadata": {},
   "outputs": [
    {
     "data": {
      "text/plain": [
       "str"
      ]
     },
     "execution_count": 110,
     "metadata": {},
     "output_type": "execute_result"
    }
   ],
   "source": [
    "type(c.face)"
   ]
  },
  {
   "cell_type": "code",
   "execution_count": 112,
   "id": "e7f51081-d41a-4385-a70f-6776b1a88a2b",
   "metadata": {},
   "outputs": [],
   "source": [
    "c.face = 100"
   ]
  },
  {
   "cell_type": "code",
   "execution_count": 113,
   "id": "9c2ce38d-5222-4468-b12a-9bcffd952550",
   "metadata": {},
   "outputs": [
    {
     "data": {
      "text/plain": [
       "Card(face=100, suit='Spades')"
      ]
     },
     "execution_count": 113,
     "metadata": {},
     "output_type": "execute_result"
    }
   ],
   "source": [
    "c"
   ]
  },
  {
   "cell_type": "code",
   "execution_count": 114,
   "id": "130f56cf-b99c-4b3f-8119-b690fc8ea7de",
   "metadata": {},
   "outputs": [
    {
     "data": {
      "text/plain": [
       "int"
      ]
     },
     "execution_count": 114,
     "metadata": {},
     "output_type": "execute_result"
    }
   ],
   "source": [
    "type(c.face)"
   ]
  },
  {
   "cell_type": "markdown",
   "id": "688f2475-d072-4ea1-a966-79350d40e4db",
   "metadata": {},
   "source": [
    "10.15 Namespaces and Scopes"
   ]
  },
  {
   "cell_type": "code",
   "execution_count": 115,
   "id": "877acbdb-7216-46ea-85f5-60508c6216d4",
   "metadata": {},
   "outputs": [],
   "source": [
    "z = 'global z'"
   ]
  },
  {
   "cell_type": "code",
   "execution_count": 117,
   "id": "de9d1f8a-0ad3-4951-a5c9-dc916022acff",
   "metadata": {},
   "outputs": [],
   "source": [
    "def print_variables():\n",
    "    y = 'local y in print_variables'\n",
    "    print(y)\n",
    "    print(z)"
   ]
  },
  {
   "cell_type": "code",
   "execution_count": 118,
   "id": "bb141116-95fe-4642-a950-518b18722e7c",
   "metadata": {},
   "outputs": [
    {
     "name": "stdout",
     "output_type": "stream",
     "text": [
      "local y in print_variables\n",
      "global z\n"
     ]
    }
   ],
   "source": [
    "print_variables()"
   ]
  },
  {
   "cell_type": "code",
   "execution_count": null,
   "id": "dd8f838d-78d6-4ab9-a3b0-53075a84fee8",
   "metadata": {},
   "outputs": [],
   "source": [
    "y"
   ]
  },
  {
   "cell_type": "code",
   "execution_count": 122,
   "id": "571e293a-fcf8-4c6d-9a8f-3cf84d53b133",
   "metadata": {},
   "outputs": [
    {
     "data": {
      "text/plain": [
       "'global z'"
      ]
     },
     "execution_count": 122,
     "metadata": {},
     "output_type": "execute_result"
    }
   ],
   "source": [
    "z"
   ]
  },
  {
   "cell_type": "markdown",
   "id": "a70c2207-58e9-4cf0-ab53-582401187e7c",
   "metadata": {},
   "source": [
    "10.16 Intro to Data Science: Time Series and Simple Linear Regression"
   ]
  },
  {
   "cell_type": "code",
   "execution_count": 123,
   "id": "203385dc-15da-40f6-ab09-d24800ecf27f",
   "metadata": {},
   "outputs": [],
   "source": [
    "c = lambda f: 5 / 9 * (f - 32)"
   ]
  },
  {
   "cell_type": "code",
   "execution_count": 124,
   "id": "bbf24d88-4336-4166-843e-3145422a7e7c",
   "metadata": {},
   "outputs": [],
   "source": [
    "temps = [(f, c(f)) for f in range (0, 101, 10)]"
   ]
  },
  {
   "cell_type": "code",
   "execution_count": 125,
   "id": "4aeb13de-6a92-4c13-b4d0-dd6043c6c202",
   "metadata": {},
   "outputs": [],
   "source": [
    "import pandas as pd"
   ]
  },
  {
   "cell_type": "code",
   "execution_count": 126,
   "id": "bb5ce55a-c92d-4c86-b6f2-3b8c57c99d81",
   "metadata": {},
   "outputs": [],
   "source": [
    "temps_df = pd.DataFrame(temps, columns=['Fahrenheit', 'Celsius'])"
   ]
  },
  {
   "cell_type": "code",
   "execution_count": 127,
   "id": "3d3a30f6-15b8-4675-bd7b-9c1e18f9cf1c",
   "metadata": {},
   "outputs": [
    {
     "data": {
      "image/png": "[encoded data removed]",
      "text/plain": [
       "<Figure size 640x480 with 1 Axes>"
      ]
     },
     "metadata": {},
     "output_type": "display_data"
    }
   ],
   "source": [
    "axes = temps_df.plot(x='Fahrenheit', y='Celsius', style='.-')\n",
    "y_label = axes.set_ylabel('Celsius')"
   ]
  },
  {
   "cell_type": "code",
   "execution_count": 128,
   "id": "9d00b550-b605-4fc8-925c-8dba605eac3d",
   "metadata": {},
   "outputs": [],
   "source": [
    "nyc = pd.read_csv('ave_hi_nyc_jan_1895-2018.csv')"
   ]
  },
  {
   "cell_type": "code",
   "execution_count": 129,
   "id": "820d8ac4-fe29-477a-aa9a-dd243fd0ac8b",
   "metadata": {},
   "outputs": [
    {
     "data": {
      "text/html": [
       "<div>\n",
       "<style scoped>\n",
       "    .dataframe tbody tr th:only-of-type {\n",
       "        vertical-align: middle;\n",
       "    }\n",
       "\n",
       "    .dataframe tbody tr th {\n",
       "        vertical-align: top;\n",
       "    }\n",
       "\n",
       "    .dataframe thead th {\n",
       "        text-align: right;\n",
       "    }\n",
       "</style>\n",
       "<table border=\"1\" class=\"dataframe\">\n",
       "  <thead>\n",
       "    <tr style=\"text-align: right;\">\n",
       "      <th></th>\n",
       "      <th>Date</th>\n",
       "      <th>Value</th>\n",
       "      <th>Anomaly</th>\n",
       "    </tr>\n",
       "  </thead>\n",
       "  <tbody>\n",
       "    <tr>\n",
       "      <th>0</th>\n",
       "      <td>189501</td>\n",
       "      <td>34.2</td>\n",
       "      <td>-3.2</td>\n",
       "    </tr>\n",
       "    <tr>\n",
       "      <th>1</th>\n",
       "      <td>189601</td>\n",
       "      <td>34.7</td>\n",
       "      <td>-2.7</td>\n",
       "    </tr>\n",
       "    <tr>\n",
       "      <th>2</th>\n",
       "      <td>189701</td>\n",
       "      <td>35.5</td>\n",
       "      <td>-1.9</td>\n",
       "    </tr>\n",
       "    <tr>\n",
       "      <th>3</th>\n",
       "      <td>189801</td>\n",
       "      <td>39.6</td>\n",
       "      <td>2.2</td>\n",
       "    </tr>\n",
       "    <tr>\n",
       "      <th>4</th>\n",
       "      <td>189901</td>\n",
       "      <td>36.4</td>\n",
       "      <td>-1.0</td>\n",
       "    </tr>\n",
       "  </tbody>\n",
       "</table>\n",
       "</div>"
      ],
      "text/plain": [
       "     Date  Value  Anomaly\n",
       "0  189501   34.2     -3.2\n",
       "1  189601   34.7     -2.7\n",
       "2  189701   35.5     -1.9\n",
       "3  189801   39.6      2.2\n",
       "4  189901   36.4     -1.0"
      ]
     },
     "execution_count": 129,
     "metadata": {},
     "output_type": "execute_result"
    }
   ],
   "source": [
    "nyc.head()"
   ]
  },
  {
   "cell_type": "code",
   "execution_count": 130,
   "id": "b6295390-55b0-4ede-8d74-28b976864754",
   "metadata": {},
   "outputs": [
    {
     "data": {
      "text/html": [
       "<div>\n",
       "<style scoped>\n",
       "    .dataframe tbody tr th:only-of-type {\n",
       "        vertical-align: middle;\n",
       "    }\n",
       "\n",
       "    .dataframe tbody tr th {\n",
       "        vertical-align: top;\n",
       "    }\n",
       "\n",
       "    .dataframe thead th {\n",
       "        text-align: right;\n",
       "    }\n",
       "</style>\n",
       "<table border=\"1\" class=\"dataframe\">\n",
       "  <thead>\n",
       "    <tr style=\"text-align: right;\">\n",
       "      <th></th>\n",
       "      <th>Date</th>\n",
       "      <th>Value</th>\n",
       "      <th>Anomaly</th>\n",
       "    </tr>\n",
       "  </thead>\n",
       "  <tbody>\n",
       "    <tr>\n",
       "      <th>119</th>\n",
       "      <td>201401</td>\n",
       "      <td>35.5</td>\n",
       "      <td>-1.9</td>\n",
       "    </tr>\n",
       "    <tr>\n",
       "      <th>120</th>\n",
       "      <td>201501</td>\n",
       "      <td>36.1</td>\n",
       "      <td>-1.3</td>\n",
       "    </tr>\n",
       "    <tr>\n",
       "      <th>121</th>\n",
       "      <td>201601</td>\n",
       "      <td>40.8</td>\n",
       "      <td>3.4</td>\n",
       "    </tr>\n",
       "    <tr>\n",
       "      <th>122</th>\n",
       "      <td>201701</td>\n",
       "      <td>42.8</td>\n",
       "      <td>5.4</td>\n",
       "    </tr>\n",
       "    <tr>\n",
       "      <th>123</th>\n",
       "      <td>201801</td>\n",
       "      <td>38.7</td>\n",
       "      <td>1.3</td>\n",
       "    </tr>\n",
       "  </tbody>\n",
       "</table>\n",
       "</div>"
      ],
      "text/plain": [
       "       Date  Value  Anomaly\n",
       "119  201401   35.5     -1.9\n",
       "120  201501   36.1     -1.3\n",
       "121  201601   40.8      3.4\n",
       "122  201701   42.8      5.4\n",
       "123  201801   38.7      1.3"
      ]
     },
     "execution_count": 130,
     "metadata": {},
     "output_type": "execute_result"
    }
   ],
   "source": [
    "nyc.tail()"
   ]
  },
  {
   "cell_type": "code",
   "execution_count": 132,
   "id": "94f38e79-e8eb-4c1c-910a-a420eee3b9f2",
   "metadata": {},
   "outputs": [],
   "source": [
    "nyc.columns = ['Date', 'Temperature', 'Anomaly']"
   ]
  },
  {
   "cell_type": "code",
   "execution_count": 133,
   "id": "9970c24e-cdc0-461f-8834-ee03b9721637",
   "metadata": {},
   "outputs": [
    {
     "data": {
      "text/html": [
       "<div>\n",
       "<style scoped>\n",
       "    .dataframe tbody tr th:only-of-type {\n",
       "        vertical-align: middle;\n",
       "    }\n",
       "\n",
       "    .dataframe tbody tr th {\n",
       "        vertical-align: top;\n",
       "    }\n",
       "\n",
       "    .dataframe thead th {\n",
       "        text-align: right;\n",
       "    }\n",
       "</style>\n",
       "<table border=\"1\" class=\"dataframe\">\n",
       "  <thead>\n",
       "    <tr style=\"text-align: right;\">\n",
       "      <th></th>\n",
       "      <th>Date</th>\n",
       "      <th>Temperature</th>\n",
       "      <th>Anomaly</th>\n",
       "    </tr>\n",
       "  </thead>\n",
       "  <tbody>\n",
       "    <tr>\n",
       "      <th>0</th>\n",
       "      <td>189501</td>\n",
       "      <td>34.2</td>\n",
       "      <td>-3.2</td>\n",
       "    </tr>\n",
       "    <tr>\n",
       "      <th>1</th>\n",
       "      <td>189601</td>\n",
       "      <td>34.7</td>\n",
       "      <td>-2.7</td>\n",
       "    </tr>\n",
       "    <tr>\n",
       "      <th>2</th>\n",
       "      <td>189701</td>\n",
       "      <td>35.5</td>\n",
       "      <td>-1.9</td>\n",
       "    </tr>\n",
       "  </tbody>\n",
       "</table>\n",
       "</div>"
      ],
      "text/plain": [
       "     Date  Temperature  Anomaly\n",
       "0  189501         34.2     -3.2\n",
       "1  189601         34.7     -2.7\n",
       "2  189701         35.5     -1.9"
      ]
     },
     "execution_count": 133,
     "metadata": {},
     "output_type": "execute_result"
    }
   ],
   "source": [
    "nyc.head(3)"
   ]
  },
  {
   "cell_type": "code",
   "execution_count": 134,
   "id": "ec94a5f5-aa18-47a5-a0be-19d0c178c69b",
   "metadata": {},
   "outputs": [
    {
     "data": {
      "text/plain": [
       "dtype('int64')"
      ]
     },
     "execution_count": 134,
     "metadata": {},
     "output_type": "execute_result"
    }
   ],
   "source": [
    "nyc.Date.dtype"
   ]
  },
  {
   "cell_type": "code",
   "execution_count": 135,
   "id": "e78d6fc0-6ca7-44b6-94fe-33277a49a25d",
   "metadata": {},
   "outputs": [],
   "source": [
    "nyc.Date = nyc.Date.floordiv(100)"
   ]
  },
  {
   "cell_type": "code",
   "execution_count": 136,
   "id": "d321be01-ff13-4c39-857d-96c411878e25",
   "metadata": {},
   "outputs": [
    {
     "data": {
      "text/html": [
       "<div>\n",
       "<style scoped>\n",
       "    .dataframe tbody tr th:only-of-type {\n",
       "        vertical-align: middle;\n",
       "    }\n",
       "\n",
       "    .dataframe tbody tr th {\n",
       "        vertical-align: top;\n",
       "    }\n",
       "\n",
       "    .dataframe thead th {\n",
       "        text-align: right;\n",
       "    }\n",
       "</style>\n",
       "<table border=\"1\" class=\"dataframe\">\n",
       "  <thead>\n",
       "    <tr style=\"text-align: right;\">\n",
       "      <th></th>\n",
       "      <th>Date</th>\n",
       "      <th>Temperature</th>\n",
       "      <th>Anomaly</th>\n",
       "    </tr>\n",
       "  </thead>\n",
       "  <tbody>\n",
       "    <tr>\n",
       "      <th>0</th>\n",
       "      <td>1895</td>\n",
       "      <td>34.2</td>\n",
       "      <td>-3.2</td>\n",
       "    </tr>\n",
       "    <tr>\n",
       "      <th>1</th>\n",
       "      <td>1896</td>\n",
       "      <td>34.7</td>\n",
       "      <td>-2.7</td>\n",
       "    </tr>\n",
       "    <tr>\n",
       "      <th>2</th>\n",
       "      <td>1897</td>\n",
       "      <td>35.5</td>\n",
       "      <td>-1.9</td>\n",
       "    </tr>\n",
       "  </tbody>\n",
       "</table>\n",
       "</div>"
      ],
      "text/plain": [
       "   Date  Temperature  Anomaly\n",
       "0  1895         34.2     -3.2\n",
       "1  1896         34.7     -2.7\n",
       "2  1897         35.5     -1.9"
      ]
     },
     "execution_count": 136,
     "metadata": {},
     "output_type": "execute_result"
    }
   ],
   "source": [
    "nyc.head(3)"
   ]
  },
  {
   "cell_type": "code",
   "execution_count": 138,
   "id": "d3553f9f-fcc4-4bd9-a008-dbba1bb14118",
   "metadata": {},
   "outputs": [],
   "source": [
    "pd.set_option('display.precision', 2)"
   ]
  },
  {
   "cell_type": "code",
   "execution_count": 139,
   "id": "5e55764f-5f13-423e-a567-8e1ebca35371",
   "metadata": {},
   "outputs": [
    {
     "data": {
      "text/plain": [
       "count    124.00\n",
       "mean      37.60\n",
       "std        4.54\n",
       "min       26.10\n",
       "25%       34.58\n",
       "50%       37.60\n",
       "75%       40.60\n",
       "max       47.60\n",
       "Name: Temperature, dtype: float64"
      ]
     },
     "execution_count": 139,
     "metadata": {},
     "output_type": "execute_result"
    }
   ],
   "source": [
    "nyc.Temperature.describe()"
   ]
  },
  {
   "cell_type": "code",
   "execution_count": 140,
   "id": "a65ba020-d195-4a39-bd95-cbeb79465c62",
   "metadata": {},
   "outputs": [],
   "source": [
    "from scipy import stats"
   ]
  },
  {
   "cell_type": "code",
   "execution_count": 141,
   "id": "72c561a9-ccec-41bb-8072-032a12e5710b",
   "metadata": {},
   "outputs": [],
   "source": [
    "linear_regression = stats.linregress(x=nyc.Date, y=nyc.Temperature)"
   ]
  },
  {
   "cell_type": "code",
   "execution_count": 142,
   "id": "384fe885-56e6-41df-b738-b9e6a305e520",
   "metadata": {},
   "outputs": [
    {
     "data": {
      "text/plain": [
       "0.014771361132966163"
      ]
     },
     "execution_count": 142,
     "metadata": {},
     "output_type": "execute_result"
    }
   ],
   "source": [
    "linear_regression.slope"
   ]
  },
  {
   "cell_type": "code",
   "execution_count": 143,
   "id": "38b8758e-459f-4049-b410-199aecd98c7f",
   "metadata": {},
   "outputs": [
    {
     "data": {
      "text/plain": [
       "8.694993233674289"
      ]
     },
     "execution_count": 143,
     "metadata": {},
     "output_type": "execute_result"
    }
   ],
   "source": [
    "linear_regression.intercept"
   ]
  },
  {
   "cell_type": "code",
   "execution_count": 144,
   "id": "3e26bc26-9843-452b-a7bd-d44a7ee2f90d",
   "metadata": {},
   "outputs": [
    {
     "data": {
      "text/plain": [
       "38.51837136113297"
      ]
     },
     "execution_count": 144,
     "metadata": {},
     "output_type": "execute_result"
    }
   ],
   "source": [
    "linear_regression.slope * 2019 + linear_regression.intercept"
   ]
  },
  {
   "cell_type": "code",
   "execution_count": 145,
   "id": "824d465b-ead6-4f15-8cd3-3779c9bf8fdb",
   "metadata": {},
   "outputs": [
    {
     "data": {
      "text/plain": [
       "36.612865774980335"
      ]
     },
     "execution_count": 145,
     "metadata": {},
     "output_type": "execute_result"
    }
   ],
   "source": [
    "linear_regression.slope * 1890 + linear_regression.intercept"
   ]
  },
  {
   "cell_type": "code",
   "execution_count": 146,
   "id": "64b68bca-fb45-4092-b330-4d87266988a1",
   "metadata": {},
   "outputs": [],
   "source": [
    "import seaborn as sns"
   ]
  },
  {
   "cell_type": "code",
   "execution_count": 147,
   "id": "0f341795-3358-4032-8064-29f7c87da787",
   "metadata": {},
   "outputs": [],
   "source": [
    "sns.set_style('whitegrid')"
   ]
  },
  {
   "cell_type": "code",
   "execution_count": 148,
   "id": "5e1a97df-e307-4df1-90d4-f8b18ba08583",
   "metadata": {},
   "outputs": [
    {
     "data": {
      "text/plain": [
       "(10.0, 70.0)"
      ]
     },
     "execution_count": 148,
     "metadata": {},
     "output_type": "execute_result"
    },
    {
     "data": {
      "image/png": "[encoded data removed]",
      "text/plain": [
       "<Figure size 640x480 with 1 Axes>"
      ]
     },
     "metadata": {},
     "output_type": "display_data"
    }
   ],
   "source": [
    "axes = sns.regplot(x=nyc.Date, y=nyc.Temperature)\n",
    "axes.set_ylim(10, 70)"
   ]
  },
  {
   "cell_type": "code",
   "execution_count": 149,
   "id": "c3062a0b-7bea-483a-9986-a15ee1e4b5a1",
   "metadata": {},
   "outputs": [],
   "source": [
    "year = 2019"
   ]
  },
  {
   "cell_type": "code",
   "execution_count": 150,
   "id": "0dc863dc-a4dc-4ed8-9de1-ee2ca2f5e762",
   "metadata": {},
   "outputs": [],
   "source": [
    "slope = linear_regression.slope"
   ]
  },
  {
   "cell_type": "code",
   "execution_count": 152,
   "id": "752df139-9b59-48ec-aa8e-0dfa30fea0ec",
   "metadata": {},
   "outputs": [],
   "source": [
    "intercept = linear_regression.intercept"
   ]
  },
  {
   "cell_type": "code",
   "execution_count": 153,
   "id": "819b0943-f7a2-4443-83fd-40fc90f4d8aa",
   "metadata": {},
   "outputs": [],
   "source": [
    "temperature = slope * year + intercept"
   ]
  },
  {
   "cell_type": "code",
   "execution_count": 154,
   "id": "2ba06a58-195e-49e5-8e10-0555b0bdc8a1",
   "metadata": {},
   "outputs": [],
   "source": [
    "while temperature < 40.0:\n",
    "    year += 1\n",
    "    temperature = slope * year + intercept"
   ]
  },
  {
   "cell_type": "code",
   "execution_count": 155,
   "id": "fe9efe09-1790-4085-ad26-d588a041aac1",
   "metadata": {},
   "outputs": [
    {
     "data": {
      "text/plain": [
       "2120"
      ]
     },
     "execution_count": 155,
     "metadata": {},
     "output_type": "execute_result"
    }
   ],
   "source": [
    "year"
   ]
  },
  {
   "cell_type": "code",
   "execution_count": null,
   "id": "067353bd-49a3-4f10-af72-a04b3c1b79a0",
   "metadata": {},
   "outputs": [],
   "source": []
  }
 ],
 "metadata": {
  "kernelspec": {
   "display_name": "Python 3 (ipykernel)",
   "language": "python",
   "name": "python3"
  },
  "language_info": {
   "codemirror_mode": {
    "name": "ipython",
    "version": 3
   },
   "file_extension": ".py",
   "mimetype": "text/x-python",
   "name": "python",
   "nbconvert_exporter": "python",
   "pygments_lexer": "ipython3",
   "version": "3.9.12"
  }
 },
 "nbformat": 4,
 "nbformat_minor": 5
}
