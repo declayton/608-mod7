{
 "cells": [
  {
   "cell_type": "markdown",
   "id": "98c3d950-50a3-4dfa-a904-704101624975",
   "metadata": {},
   "source": [
    "Deanna Clayton Mod7 Ch15 Practice"
   ]
  },
  {
   "cell_type": "markdown",
   "id": "4a704744-d44d-456e-ba21-6bed8e21cec1",
   "metadata": {},
   "source": [
    "15.2 Case Study: Classification with k-Nearest Neighbors and the Digits Dataset, Part 1"
   ]
  },
  {
   "cell_type": "code",
   "execution_count": 3,
   "id": "44270532-f9b5-47c8-883e-cfe64df1d6f0",
   "metadata": {},
   "outputs": [
    {
     "name": "stdout",
     "output_type": "stream",
     "text": [
      "Requirement already satisfied: sklearn in c:\\users\\dec99\\miniconda3\\lib\\site-packages (0.0)\n",
      "Requirement already satisfied: scikit-learn in c:\\users\\dec99\\miniconda3\\lib\\site-packages (from sklearn) (1.1.2)\n",
      "Requirement already satisfied: joblib>=1.0.0 in c:\\users\\dec99\\miniconda3\\lib\\site-packages (from scikit-learn->sklearn) (1.2.0)\n",
      "Requirement already satisfied: scipy>=1.3.2 in c:\\users\\dec99\\miniconda3\\lib\\site-packages (from scikit-learn->sklearn) (1.8.1)\n",
      "Requirement already satisfied: numpy>=1.17.3 in c:\\users\\dec99\\miniconda3\\lib\\site-packages (from scikit-learn->sklearn) (1.23.2)\n",
      "Requirement already satisfied: threadpoolctl>=2.0.0 in c:\\users\\dec99\\miniconda3\\lib\\site-packages (from scikit-learn->sklearn) (3.1.0)\n",
      "Note: you may need to restart the kernel to use updated packages.\n"
     ]
    }
   ],
   "source": [
    "pip install sklearn"
   ]
  },
  {
   "cell_type": "code",
   "execution_count": 4,
   "id": "7960a5c7-d0e4-4f93-9e18-7b04ac038908",
   "metadata": {},
   "outputs": [],
   "source": [
    "import sklearn"
   ]
  },
  {
   "cell_type": "code",
   "execution_count": 5,
   "id": "000abe10-e0d0-4094-9deb-4063ea4d127b",
   "metadata": {},
   "outputs": [],
   "source": [
    "from sklearn.datasets import load_digits"
   ]
  },
  {
   "cell_type": "code",
   "execution_count": 6,
   "id": "6260ed83-24df-4f3f-8561-9c18e35e5650",
   "metadata": {},
   "outputs": [],
   "source": [
    "digits = load_digits()"
   ]
  },
  {
   "cell_type": "code",
   "execution_count": 7,
   "id": "ff90978a-df5c-456c-ba08-ac66bb8736e9",
   "metadata": {},
   "outputs": [
    {
     "name": "stdout",
     "output_type": "stream",
     "text": [
      ".. _digits_dataset:\n",
      "\n",
      "Optical recognition of handwritten digits dataset\n",
      "--------------------------------------------------\n",
      "\n",
      "**Data Set Characteristics:**\n",
      "\n",
      "    :Number of Instances: 1797\n",
      "    :Number of Attributes: 64\n",
      "    :Attribute Information: 8x8 image of integer pixels in the range 0..16.\n",
      "    :Missing Attribute Values: None\n",
      "    :Creator: E. Alpaydin (alpaydin '@' boun.edu.tr)\n",
      "    :Date: July; 1998\n",
      "\n",
      "This is a copy of the test set of the UCI ML hand-written digits datasets\n",
      "https://archive.ics.uci.edu/ml/datasets/Optical+Recognition+of+Handwritten+Digits\n",
      "\n",
      "The data set contains images of hand-written digits: 10 classes where\n",
      "each class refers to a digit.\n",
      "\n",
      "Preprocessing programs made available by NIST were used to extract\n",
      "normalized bitmaps of handwritten digits from a preprinted form. From a\n",
      "total of 43 people, 30 contributed to the training set and different 13\n",
      "to the test set. 32x32 bitmaps are divided into nonoverlapping blocks of\n",
      "4x4 and the number of on pixels are counted in each block. This generates\n",
      "an input matrix of 8x8 where each element is an integer in the range\n",
      "0..16. This reduces dimensionality and gives invariance to small\n",
      "distortions.\n",
      "\n",
      "For info on NIST preprocessing routines, see M. D. Garris, J. L. Blue, G.\n",
      "T. Candela, D. L. Dimmick, J. Geist, P. J. Grother, S. A. Janet, and C.\n",
      "L. Wilson, NIST Form-Based Handprint Recognition System, NISTIR 5469,\n",
      "1994.\n",
      "\n",
      ".. topic:: References\n",
      "\n",
      "  - C. Kaynak (1995) Methods of Combining Multiple Classifiers and Their\n",
      "    Applications to Handwritten Digit Recognition, MSc Thesis, Institute of\n",
      "    Graduate Studies in Science and Engineering, Bogazici University.\n",
      "  - E. Alpaydin, C. Kaynak (1998) Cascading Classifiers, Kybernetika.\n",
      "  - Ken Tang and Ponnuthurai N. Suganthan and Xi Yao and A. Kai Qin.\n",
      "    Linear dimensionalityreduction using relevance weighted LDA. School of\n",
      "    Electrical and Electronic Engineering Nanyang Technological University.\n",
      "    2005.\n",
      "  - Claudio Gentile. A New Approximate Maximal Margin Classification\n",
      "    Algorithm. NIPS. 2000.\n",
      "\n"
     ]
    }
   ],
   "source": [
    "print(digits.DESCR)"
   ]
  },
  {
   "cell_type": "code",
   "execution_count": 8,
   "id": "2cb6763f-1e9b-4049-8d08-afbbc40fe43f",
   "metadata": {},
   "outputs": [
    {
     "data": {
      "text/plain": [
       "array([0, 4, 1, 7, 4, 8, 2, 2, 4, 4, 1, 9, 7, 3, 2, 1, 2, 5])"
      ]
     },
     "execution_count": 8,
     "metadata": {},
     "output_type": "execute_result"
    }
   ],
   "source": [
    "digits.target[::100]"
   ]
  },
  {
   "cell_type": "code",
   "execution_count": 9,
   "id": "bfc2624e-cd5f-492e-a576-1cce13f56f45",
   "metadata": {},
   "outputs": [
    {
     "data": {
      "text/plain": [
       "(1797, 64)"
      ]
     },
     "execution_count": 9,
     "metadata": {},
     "output_type": "execute_result"
    }
   ],
   "source": [
    "digits.data.shape"
   ]
  },
  {
   "cell_type": "code",
   "execution_count": 10,
   "id": "42646535-9051-4ff3-b0bd-8c5d220581ca",
   "metadata": {},
   "outputs": [
    {
     "data": {
      "text/plain": [
       "(1797,)"
      ]
     },
     "execution_count": 10,
     "metadata": {},
     "output_type": "execute_result"
    }
   ],
   "source": [
    "digits.target.shape"
   ]
  },
  {
   "cell_type": "code",
   "execution_count": 11,
   "id": "f961fff1-c592-4e95-975b-f584c6d8fc62",
   "metadata": {},
   "outputs": [
    {
     "data": {
      "text/plain": [
       "array([[ 0.,  2.,  9., 15., 14.,  9.,  3.,  0.],\n",
       "       [ 0.,  4., 13.,  8.,  9., 16.,  8.,  0.],\n",
       "       [ 0.,  0.,  0.,  6., 14., 15.,  3.,  0.],\n",
       "       [ 0.,  0.,  0., 11., 14.,  2.,  0.,  0.],\n",
       "       [ 0.,  0.,  0.,  2., 15., 11.,  0.,  0.],\n",
       "       [ 0.,  0.,  0.,  0.,  2., 15.,  4.,  0.],\n",
       "       [ 0.,  1.,  5.,  6., 13., 16.,  6.,  0.],\n",
       "       [ 0.,  2., 12., 12., 13., 11.,  0.,  0.]])"
      ]
     },
     "execution_count": 11,
     "metadata": {},
     "output_type": "execute_result"
    }
   ],
   "source": [
    "digits.images[13]"
   ]
  },
  {
   "cell_type": "code",
   "execution_count": 12,
   "id": "b273dfc9-2335-467b-be71-2199b23c0b12",
   "metadata": {},
   "outputs": [
    {
     "data": {
      "text/plain": [
       "array([ 0.,  2.,  9., 15., 14.,  9.,  3.,  0.,  0.,  4., 13.,  8.,  9.,\n",
       "       16.,  8.,  0.,  0.,  0.,  0.,  6., 14., 15.,  3.,  0.,  0.,  0.,\n",
       "        0., 11., 14.,  2.,  0.,  0.,  0.,  0.,  0.,  2., 15., 11.,  0.,\n",
       "        0.,  0.,  0.,  0.,  0.,  2., 15.,  4.,  0.,  0.,  1.,  5.,  6.,\n",
       "       13., 16.,  6.,  0.,  0.,  2., 12., 12., 13., 11.,  0.,  0.])"
      ]
     },
     "execution_count": 12,
     "metadata": {},
     "output_type": "execute_result"
    }
   ],
   "source": [
    "digits.data[13]"
   ]
  },
  {
   "cell_type": "code",
   "execution_count": 13,
   "id": "d8a2a606-21d3-49d8-8982-211da4eda070",
   "metadata": {},
   "outputs": [
    {
     "data": {
      "text/plain": [
       "array([[ 0.,  0.,  8., 16.,  5.,  0.,  0.,  0.],\n",
       "       [ 0.,  1., 13., 11., 16.,  0.,  0.,  0.],\n",
       "       [ 0.,  0., 10.,  0., 13.,  3.,  0.,  0.],\n",
       "       [ 0.,  0.,  3.,  1., 16.,  1.,  0.,  0.],\n",
       "       [ 0.,  0.,  0.,  9., 12.,  0.,  0.,  0.],\n",
       "       [ 0.,  0.,  3., 15.,  5.,  0.,  0.,  0.],\n",
       "       [ 0.,  0., 14., 15.,  8.,  8.,  3.,  0.],\n",
       "       [ 0.,  0.,  7., 12., 12., 12., 13.,  1.]])"
      ]
     },
     "execution_count": 13,
     "metadata": {},
     "output_type": "execute_result"
    }
   ],
   "source": [
    "digits.images[22]"
   ]
  },
  {
   "cell_type": "code",
   "execution_count": 14,
   "id": "1d7dc811-2a16-48fb-97ff-f31ea45caa17",
   "metadata": {},
   "outputs": [
    {
     "data": {
      "text/plain": [
       "2"
      ]
     },
     "execution_count": 14,
     "metadata": {},
     "output_type": "execute_result"
    }
   ],
   "source": [
    "digits.target[22]"
   ]
  },
  {
   "cell_type": "code",
   "execution_count": 15,
   "id": "837e8b9a-f15a-421d-a948-a7101edfe43c",
   "metadata": {},
   "outputs": [],
   "source": [
    "import matplotlib.pyplot as plt"
   ]
  },
  {
   "cell_type": "code",
   "execution_count": 16,
   "id": "fede20a7-4d9f-4bc4-a910-08d3210d504d",
   "metadata": {},
   "outputs": [
    {
     "data": {
      "image/png": "[encoded data removed]",
      "text/plain": [
       "<Figure size 600x400 with 24 Axes>"
      ]
     },
     "metadata": {},
     "output_type": "display_data"
    }
   ],
   "source": [
    "figure, axes = plt.subplots(nrows=4, ncols=6, figsize=(6, 4))"
   ]
  },
  {
   "cell_type": "code",
   "execution_count": 17,
   "id": "a7d07c86-984e-4ca0-a186-7eb8a7606cff",
   "metadata": {},
   "outputs": [
    {
     "data": {
      "text/plain": [
       "<Figure size 640x480 with 0 Axes>"
      ]
     },
     "metadata": {},
     "output_type": "display_data"
    }
   ],
   "source": [
    "for item in zip(axes.ravel(), digits.images, digits.target):\n",
    "    axes, image, target = item\n",
    "    axes.imshow(image, cmap=plt.cm.gray_r)\n",
    "    axes.set_xticks([])\n",
    "    axes.set_yticks([])\n",
    "    axes.set_title(target)\n",
    "plt.tight_layout()"
   ]
  },
  {
   "cell_type": "code",
   "execution_count": 23,
   "id": "41ba894b-4af4-4967-9b05-3f33d7407bb0",
   "metadata": {},
   "outputs": [
    {
     "data": {
      "image/png": "[encoded data removed]",
      "text/plain": [
       "<Figure size 640x480 with 1 Axes>"
      ]
     },
     "metadata": {},
     "output_type": "display_data"
    }
   ],
   "source": [
    "axes = plt.subplot()\n",
    "image = plt.imshow(digits.images[22], cmap=plt.cm.gray_r)\n",
    "xticks = axes.set_xticks([])\n",
    "yticks = axes.set_yticks([])"
   ]
  },
  {
   "cell_type": "code",
   "execution_count": 24,
   "id": "4f24fe2e-7a75-4a6f-8b4e-6f2d8358ddd5",
   "metadata": {},
   "outputs": [],
   "source": [
    "from sklearn.model_selection import train_test_split"
   ]
  },
  {
   "cell_type": "code",
   "execution_count": 25,
   "id": "b72a6788-f462-4795-b294-dbbf3f241791",
   "metadata": {},
   "outputs": [],
   "source": [
    "X_train, X_test, y_train, y_test = train_test_split(\n",
    "    digits.data, digits.target, random_state=11)"
   ]
  },
  {
   "cell_type": "code",
   "execution_count": 26,
   "id": "3c1e4055-3116-4377-8f82-d779e8218838",
   "metadata": {},
   "outputs": [
    {
     "data": {
      "text/plain": [
       "(1347, 64)"
      ]
     },
     "execution_count": 26,
     "metadata": {},
     "output_type": "execute_result"
    }
   ],
   "source": [
    "X_train.shape"
   ]
  },
  {
   "cell_type": "code",
   "execution_count": 27,
   "id": "c2c52dfe-b0b6-4046-9561-eea5222bfd69",
   "metadata": {},
   "outputs": [
    {
     "data": {
      "text/plain": [
       "(450, 64)"
      ]
     },
     "execution_count": 27,
     "metadata": {},
     "output_type": "execute_result"
    }
   ],
   "source": [
    "X_test.shape"
   ]
  },
  {
   "cell_type": "code",
   "execution_count": 28,
   "id": "822ef8cf-9b25-4146-8fa0-1adb17960814",
   "metadata": {},
   "outputs": [],
   "source": [
    "from sklearn.neighbors import KNeighborsClassifier"
   ]
  },
  {
   "cell_type": "code",
   "execution_count": 29,
   "id": "7d56ff47-a873-46a1-bc96-aa2ccc2024f6",
   "metadata": {},
   "outputs": [],
   "source": [
    "knn = KNeighborsClassifier()"
   ]
  },
  {
   "cell_type": "code",
   "execution_count": 30,
   "id": "f8071859-ca0b-43f3-921e-3afd89836642",
   "metadata": {},
   "outputs": [
    {
     "data": {
      "text/html": [
       "<style>#sk-container-id-1 {color: black;background-color: white;}#sk-container-id-1 pre{padding: 0;}#sk-container-id-1 div.sk-toggleable {background-color: white;}#sk-container-id-1 label.sk-toggleable__label {cursor: pointer;display: block;width: 100%;margin-bottom: 0;padding: 0.3em;box-sizing: border-box;text-align: center;}#sk-container-id-1 label.sk-toggleable__label-arrow:before {content: \"▸\";float: left;margin-right: 0.25em;color: #696969;}#sk-container-id-1 label.sk-toggleable__label-arrow:hover:before {color: black;}#sk-container-id-1 div.sk-estimator:hover label.sk-toggleable__label-arrow:before {color: black;}#sk-container-id-1 div.sk-toggleable__content {max-height: 0;max-width: 0;overflow: hidden;text-align: left;background-color: #f0f8ff;}#sk-container-id-1 div.sk-toggleable__content pre {margin: 0.2em;color: black;border-radius: 0.25em;background-color: #f0f8ff;}#sk-container-id-1 input.sk-toggleable__control:checked~div.sk-toggleable__content {max-height: 200px;max-width: 100%;overflow: auto;}#sk-container-id-1 input.sk-toggleable__control:checked~label.sk-toggleable__label-arrow:before {content: \"▾\";}#sk-container-id-1 div.sk-estimator input.sk-toggleable__control:checked~label.sk-toggleable__label {background-color: #d4ebff;}#sk-container-id-1 div.sk-label input.sk-toggleable__control:checked~label.sk-toggleable__label {background-color: #d4ebff;}#sk-container-id-1 input.sk-hidden--visually {border: 0;clip: rect(1px 1px 1px 1px);clip: rect(1px, 1px, 1px, 1px);height: 1px;margin: -1px;overflow: hidden;padding: 0;position: absolute;width: 1px;}#sk-container-id-1 div.sk-estimator {font-family: monospace;background-color: #f0f8ff;border: 1px dotted black;border-radius: 0.25em;box-sizing: border-box;margin-bottom: 0.5em;}#sk-container-id-1 div.sk-estimator:hover {background-color: #d4ebff;}#sk-container-id-1 div.sk-parallel-item::after {content: \"\";width: 100%;border-bottom: 1px solid gray;flex-grow: 1;}#sk-container-id-1 div.sk-label:hover label.sk-toggleable__label {background-color: #d4ebff;}#sk-container-id-1 div.sk-serial::before {content: \"\";position: absolute;border-left: 1px solid gray;box-sizing: border-box;top: 0;bottom: 0;left: 50%;z-index: 0;}#sk-container-id-1 div.sk-serial {display: flex;flex-direction: column;align-items: center;background-color: white;padding-right: 0.2em;padding-left: 0.2em;position: relative;}#sk-container-id-1 div.sk-item {position: relative;z-index: 1;}#sk-container-id-1 div.sk-parallel {display: flex;align-items: stretch;justify-content: center;background-color: white;position: relative;}#sk-container-id-1 div.sk-item::before, #sk-container-id-1 div.sk-parallel-item::before {content: \"\";position: absolute;border-left: 1px solid gray;box-sizing: border-box;top: 0;bottom: 0;left: 50%;z-index: -1;}#sk-container-id-1 div.sk-parallel-item {display: flex;flex-direction: column;z-index: 1;position: relative;background-color: white;}#sk-container-id-1 div.sk-parallel-item:first-child::after {align-self: flex-end;width: 50%;}#sk-container-id-1 div.sk-parallel-item:last-child::after {align-self: flex-start;width: 50%;}#sk-container-id-1 div.sk-parallel-item:only-child::after {width: 0;}#sk-container-id-1 div.sk-dashed-wrapped {border: 1px dashed gray;margin: 0 0.4em 0.5em 0.4em;box-sizing: border-box;padding-bottom: 0.4em;background-color: white;}#sk-container-id-1 div.sk-label label {font-family: monospace;font-weight: bold;display: inline-block;line-height: 1.2em;}#sk-container-id-1 div.sk-label-container {text-align: center;}#sk-container-id-1 div.sk-container {/* jupyter's `normalize.less` sets `[hidden] { display: none; }` but bootstrap.min.css set `[hidden] { display: none !important; }` so we also need the `!important` here to be able to override the default hidden behavior on the sphinx rendered scikit-learn.org. See: https://github.com/scikit-learn/scikit-learn/issues/21755 */display: inline-block !important;position: relative;}#sk-container-id-1 div.sk-text-repr-fallback {display: none;}</style><div id=\"sk-container-id-1\" class=\"sk-top-container\"><div class=\"sk-text-repr-fallback\"><pre>KNeighborsClassifier()</pre><b>In a Jupyter environment, please rerun this cell to show the HTML representation or trust the notebook. <br />On GitHub, the HTML representation is unable to render, please try loading this page with nbviewer.org.</b></div><div class=\"sk-container\" hidden><div class=\"sk-item\"><div class=\"sk-estimator sk-toggleable\"><input class=\"sk-toggleable__control sk-hidden--visually\" id=\"sk-estimator-id-1\" type=\"checkbox\" checked><label for=\"sk-estimator-id-1\" class=\"sk-toggleable__label sk-toggleable__label-arrow\">KNeighborsClassifier</label><div class=\"sk-toggleable__content\"><pre>KNeighborsClassifier()</pre></div></div></div></div></div>"
      ],
      "text/plain": [
       "KNeighborsClassifier()"
      ]
     },
     "execution_count": 30,
     "metadata": {},
     "output_type": "execute_result"
    }
   ],
   "source": [
    "knn.fit(X=X_train, y=y_train)"
   ]
  },
  {
   "cell_type": "code",
   "execution_count": 31,
   "id": "1137ece9-86f2-43ca-8353-e12057821d01",
   "metadata": {},
   "outputs": [],
   "source": [
    "predicted = knn.predict(X=X_test)"
   ]
  },
  {
   "cell_type": "code",
   "execution_count": 32,
   "id": "8694bce4-bafc-466b-b090-a97a720e696a",
   "metadata": {},
   "outputs": [],
   "source": [
    "expected = y_test"
   ]
  },
  {
   "cell_type": "code",
   "execution_count": 33,
   "id": "bec0e80e-a6bb-41f5-b2bf-b3f874221aa5",
   "metadata": {},
   "outputs": [
    {
     "data": {
      "text/plain": [
       "array([0, 4, 9, 9, 3, 1, 4, 1, 5, 0, 4, 9, 4, 1, 5, 3, 3, 8, 5, 6])"
      ]
     },
     "execution_count": 33,
     "metadata": {},
     "output_type": "execute_result"
    }
   ],
   "source": [
    "predicted[:20]"
   ]
  },
  {
   "cell_type": "code",
   "execution_count": 34,
   "id": "73c1709d-3774-46eb-ba30-18f86f1b69e9",
   "metadata": {},
   "outputs": [
    {
     "data": {
      "text/plain": [
       "array([0, 4, 9, 9, 3, 1, 4, 1, 5, 0, 4, 9, 4, 1, 5, 3, 3, 8, 3, 6])"
      ]
     },
     "execution_count": 34,
     "metadata": {},
     "output_type": "execute_result"
    }
   ],
   "source": [
    "expected[:20]"
   ]
  },
  {
   "cell_type": "code",
   "execution_count": 35,
   "id": "d003af23-30c9-4916-9f73-d92d4a2e0967",
   "metadata": {},
   "outputs": [],
   "source": [
    "wrong = [(p, e) for (p, e) in zip(predicted, expected) if p != e]"
   ]
  },
  {
   "cell_type": "code",
   "execution_count": 36,
   "id": "32136579-0de5-4988-8ac5-b9260ef1c38c",
   "metadata": {},
   "outputs": [
    {
     "data": {
      "text/plain": [
       "[(5, 3),\n",
       " (8, 9),\n",
       " (4, 9),\n",
       " (7, 3),\n",
       " (7, 4),\n",
       " (2, 8),\n",
       " (9, 8),\n",
       " (3, 8),\n",
       " (3, 8),\n",
       " (1, 8)]"
      ]
     },
     "execution_count": 36,
     "metadata": {},
     "output_type": "execute_result"
    }
   ],
   "source": [
    "wrong"
   ]
  },
  {
   "cell_type": "code",
   "execution_count": 37,
   "id": "38b990e3-244a-4370-a60c-39680ab28fbd",
   "metadata": {},
   "outputs": [],
   "source": [
    "wrong = []"
   ]
  },
  {
   "cell_type": "code",
   "execution_count": 38,
   "id": "d1b80cf1-839f-4b20-be17-52e8c943268e",
   "metadata": {},
   "outputs": [],
   "source": [
    "for p, e in zip(predicted, expected):\n",
    "    if p != e:\n",
    "        wrong.append((p, e))"
   ]
  },
  {
   "cell_type": "code",
   "execution_count": 39,
   "id": "927bf2f4-c50d-4aa4-a274-c16d93142023",
   "metadata": {},
   "outputs": [
    {
     "data": {
      "text/plain": [
       "[(5, 3),\n",
       " (8, 9),\n",
       " (4, 9),\n",
       " (7, 3),\n",
       " (7, 4),\n",
       " (2, 8),\n",
       " (9, 8),\n",
       " (3, 8),\n",
       " (3, 8),\n",
       " (1, 8)]"
      ]
     },
     "execution_count": 39,
     "metadata": {},
     "output_type": "execute_result"
    }
   ],
   "source": [
    "wrong"
   ]
  },
  {
   "cell_type": "markdown",
   "id": "47b5fb7d-b441-493d-82fd-c53c22f2d914",
   "metadata": {},
   "source": [
    "15.3 Case Study: Classification with k-Nearest Neighbors and the Digits Dataset, Part 2"
   ]
  },
  {
   "cell_type": "code",
   "execution_count": 41,
   "id": "b8161660-2523-4f56-8019-b09f5ec797f1",
   "metadata": {},
   "outputs": [
    {
     "name": "stdout",
     "output_type": "stream",
     "text": [
      "97.78%\n"
     ]
    }
   ],
   "source": [
    "print(f'{knn.score(X_test, y_test):.2%}')"
   ]
  },
  {
   "cell_type": "code",
   "execution_count": 42,
   "id": "dd2af220-b115-4330-b1c6-cd786a75f876",
   "metadata": {},
   "outputs": [],
   "source": [
    "from sklearn.metrics import confusion_matrix"
   ]
  },
  {
   "cell_type": "code",
   "execution_count": 43,
   "id": "7a465cd0-1f09-4055-9deb-8d8a2e6e5f6a",
   "metadata": {},
   "outputs": [],
   "source": [
    "confusion = confusion_matrix(y_true=expected, y_pred=predicted)"
   ]
  },
  {
   "cell_type": "code",
   "execution_count": 44,
   "id": "2ab9e9a6-2400-4990-84a7-b4c8c9a50023",
   "metadata": {},
   "outputs": [
    {
     "data": {
      "text/plain": [
       "array([[45,  0,  0,  0,  0,  0,  0,  0,  0,  0],\n",
       "       [ 0, 45,  0,  0,  0,  0,  0,  0,  0,  0],\n",
       "       [ 0,  0, 54,  0,  0,  0,  0,  0,  0,  0],\n",
       "       [ 0,  0,  0, 42,  0,  1,  0,  1,  0,  0],\n",
       "       [ 0,  0,  0,  0, 49,  0,  0,  1,  0,  0],\n",
       "       [ 0,  0,  0,  0,  0, 38,  0,  0,  0,  0],\n",
       "       [ 0,  0,  0,  0,  0,  0, 42,  0,  0,  0],\n",
       "       [ 0,  0,  0,  0,  0,  0,  0, 45,  0,  0],\n",
       "       [ 0,  1,  1,  2,  0,  0,  0,  0, 39,  1],\n",
       "       [ 0,  0,  0,  0,  1,  0,  0,  0,  1, 41]], dtype=int64)"
      ]
     },
     "execution_count": 44,
     "metadata": {},
     "output_type": "execute_result"
    }
   ],
   "source": [
    "confusion"
   ]
  },
  {
   "cell_type": "code",
   "execution_count": 45,
   "id": "fa73a244-318a-4774-810b-550e87d06b87",
   "metadata": {},
   "outputs": [],
   "source": [
    "from sklearn.metrics import classification_report"
   ]
  },
  {
   "cell_type": "code",
   "execution_count": 46,
   "id": "1482a082-570b-4d36-95ea-25773ab5764c",
   "metadata": {},
   "outputs": [],
   "source": [
    "names = [str(digit) for digit in digits.target_names]"
   ]
  },
  {
   "cell_type": "code",
   "execution_count": 47,
   "id": "ffb75f04-6bf5-4bc7-b7a7-b8775be08a6e",
   "metadata": {},
   "outputs": [
    {
     "name": "stdout",
     "output_type": "stream",
     "text": [
      "              precision    recall  f1-score   support\n",
      "\n",
      "           0       1.00      1.00      1.00        45\n",
      "           1       0.98      1.00      0.99        45\n",
      "           2       0.98      1.00      0.99        54\n",
      "           3       0.95      0.95      0.95        44\n",
      "           4       0.98      0.98      0.98        50\n",
      "           5       0.97      1.00      0.99        38\n",
      "           6       1.00      1.00      1.00        42\n",
      "           7       0.96      1.00      0.98        45\n",
      "           8       0.97      0.89      0.93        44\n",
      "           9       0.98      0.95      0.96        43\n",
      "\n",
      "    accuracy                           0.98       450\n",
      "   macro avg       0.98      0.98      0.98       450\n",
      "weighted avg       0.98      0.98      0.98       450\n",
      "\n"
     ]
    }
   ],
   "source": [
    "print(classification_report(expected, predicted, target_names=names))"
   ]
  },
  {
   "cell_type": "code",
   "execution_count": 48,
   "id": "d42dfb06-cf6b-41dd-b975-e7bd7d57157b",
   "metadata": {},
   "outputs": [],
   "source": [
    "import pandas as pd"
   ]
  },
  {
   "cell_type": "code",
   "execution_count": 50,
   "id": "c7b8072a-c4dd-49a8-b08c-e4e02a834bb4",
   "metadata": {},
   "outputs": [],
   "source": [
    "confusion_df = pd.DataFrame(confusion, index=range(10), columns=range(10))"
   ]
  },
  {
   "cell_type": "code",
   "execution_count": 51,
   "id": "79a5c728-70eb-4471-9e7d-f6bcf427c70c",
   "metadata": {},
   "outputs": [],
   "source": [
    "import seaborn as sns"
   ]
  },
  {
   "cell_type": "code",
   "execution_count": 52,
   "id": "e9ffe575-013a-4086-b824-353c3f3a368e",
   "metadata": {},
   "outputs": [
    {
     "data": {
      "image/png": "[encoded data removed]",
      "text/plain": [
       "<Figure size 640x480 with 2 Axes>"
      ]
     },
     "metadata": {},
     "output_type": "display_data"
    }
   ],
   "source": [
    "axes = sns.heatmap(confusion_df, annot=True, cmap='nipy_spectral_r')"
   ]
  },
  {
   "cell_type": "code",
   "execution_count": 53,
   "id": "9cd1a1a9-d913-43af-a364-b268b09ba03f",
   "metadata": {},
   "outputs": [],
   "source": [
    "from sklearn.model_selection import KFold"
   ]
  },
  {
   "cell_type": "code",
   "execution_count": 54,
   "id": "517db037-a674-4e4d-943e-08f7d16c3692",
   "metadata": {},
   "outputs": [],
   "source": [
    "kfold = KFold(n_splits=10, random_state=11, shuffle=True)"
   ]
  },
  {
   "cell_type": "code",
   "execution_count": 55,
   "id": "49098fa2-a4cb-454d-b245-80719bbc8770",
   "metadata": {},
   "outputs": [],
   "source": [
    "from sklearn.model_selection import cross_val_score"
   ]
  },
  {
   "cell_type": "code",
   "execution_count": 56,
   "id": "ff7b6f16-822a-4317-913d-2e73d097c04f",
   "metadata": {},
   "outputs": [],
   "source": [
    "scores = cross_val_score(estimator=knn, X=digits.data, y=digits.target, cv=kfold)"
   ]
  },
  {
   "cell_type": "code",
   "execution_count": 57,
   "id": "389f9988-c3cf-4eff-8c9f-29ff9928b7cc",
   "metadata": {},
   "outputs": [
    {
     "data": {
      "text/plain": [
       "array([0.97777778, 0.99444444, 0.98888889, 0.97777778, 0.98888889,\n",
       "       0.99444444, 0.97777778, 0.98882682, 1.        , 0.98324022])"
      ]
     },
     "execution_count": 57,
     "metadata": {},
     "output_type": "execute_result"
    }
   ],
   "source": [
    "scores"
   ]
  },
  {
   "cell_type": "code",
   "execution_count": 58,
   "id": "1edb3ca8-543f-4432-aad7-e4bcf392f24b",
   "metadata": {},
   "outputs": [
    {
     "name": "stdout",
     "output_type": "stream",
     "text": [
      "Mean accuracy: 98.72%\n"
     ]
    }
   ],
   "source": [
    "print(f'Mean accuracy: {scores.mean():.2%}')"
   ]
  },
  {
   "cell_type": "code",
   "execution_count": 59,
   "id": "bda480f1-6dfc-4883-a49f-39a24804b7b0",
   "metadata": {},
   "outputs": [
    {
     "name": "stdout",
     "output_type": "stream",
     "text": [
      "Accuracy standard deviation: 0.75%\n"
     ]
    }
   ],
   "source": [
    "print(f'Accuracy standard deviation: {scores.std():.2%}')"
   ]
  },
  {
   "cell_type": "code",
   "execution_count": 60,
   "id": "eceb42bd-a439-4261-9ed3-3fde2390a9ef",
   "metadata": {},
   "outputs": [],
   "source": [
    "from sklearn.svm import SVC"
   ]
  },
  {
   "cell_type": "code",
   "execution_count": 62,
   "id": "6a9135ab-f8d8-42f7-8a00-9ca590b51094",
   "metadata": {},
   "outputs": [],
   "source": [
    "from sklearn.naive_bayes import GaussianNB"
   ]
  },
  {
   "cell_type": "code",
   "execution_count": 63,
   "id": "93e35b92-ed0f-49bc-a32b-6a9c0044b659",
   "metadata": {},
   "outputs": [],
   "source": [
    "estimators = {\n",
    "    'KNeighborsClassifier': knn, \n",
    "    'SVC': SVC(gamma='scale'),\n",
    "    'GaussianNB': GaussianNB()}"
   ]
  },
  {
   "cell_type": "code",
   "execution_count": 65,
   "id": "59e515c6-2cb4-45f4-9d43-22b72925ab12",
   "metadata": {},
   "outputs": [
    {
     "name": "stdout",
     "output_type": "stream",
     "text": [
      "KNeighborsClassifier: mean accuracy=98.72%; standard deviation=0.75%\n",
      "                 SVC: mean accuracy=98.72%; standard deviation=0.79%\n",
      "          GaussianNB: mean accuracy=84.48%; standard deviation=3.47%\n"
     ]
    }
   ],
   "source": [
    "for estimator_name, estimator_object in estimators.items():\n",
    "    kfold = KFold(n_splits=10, random_state=11, shuffle=True)\n",
    "    scores = cross_val_score(estimator=estimator_object, X=digits.data, y=digits.target, cv=kfold)\n",
    "    print(f'{estimator_name:>20}: ' + \n",
    "          f'mean accuracy={scores.mean():.2%}; ' +\n",
    "          f'standard deviation={scores.std():.2%}')"
   ]
  },
  {
   "cell_type": "code",
   "execution_count": 67,
   "id": "7f710199-71ab-4305-ab77-9a625d72e564",
   "metadata": {},
   "outputs": [
    {
     "name": "stdout",
     "output_type": "stream",
     "text": [
      "k= 1; mean accuracy=98.83%; standard deviation=0.58%\n",
      "k= 3; mean accuracy=98.83%; standard deviation=0.72%\n",
      "k= 5; mean accuracy=98.72%; standard deviation=0.75%\n",
      "k= 7; mean accuracy=98.44%; standard deviation=0.96%\n",
      "k= 9; mean accuracy=98.39%; standard deviation=0.80%\n",
      "k=11; mean accuracy=98.33%; standard deviation=0.90%\n",
      "k=13; mean accuracy=97.89%; standard deviation=0.89%\n",
      "k=15; mean accuracy=97.89%; standard deviation=1.02%\n",
      "k=17; mean accuracy=97.50%; standard deviation=1.00%\n",
      "k=19; mean accuracy=97.66%; standard deviation=0.96%\n"
     ]
    }
   ],
   "source": [
    "for k in range(1, 20, 2):\n",
    "    kfold = KFold(n_splits=10, random_state=11, shuffle=True)\n",
    "    knn = KNeighborsClassifier(n_neighbors=k)\n",
    "    scores = cross_val_score(estimator=knn, X=digits.data, y=digits.target, cv=kfold)\n",
    "    print(f'k={k:>2}; mean accuracy={scores.mean():.2%}; ' +\n",
    "          f'standard deviation={scores.std():.2%}')"
   ]
  },
  {
   "cell_type": "markdown",
   "id": "53b52fd9-1eee-417a-b791-ebbe8504f279",
   "metadata": {},
   "source": [
    "15.4 Case Study: Time Series and Simple Linear Regression"
   ]
  },
  {
   "cell_type": "code",
   "execution_count": 68,
   "id": "dd72ac94-c742-4376-bf27-0c970dbff7d7",
   "metadata": {},
   "outputs": [],
   "source": [
    "import pandas as pd"
   ]
  },
  {
   "cell_type": "code",
   "execution_count": 70,
   "id": "87e11f66-f90a-4676-b315-b77645e8ca49",
   "metadata": {},
   "outputs": [],
   "source": [
    "nyc = pd.read_csv('ave_hi_nyc_jan_1895-2018.csv')"
   ]
  },
  {
   "cell_type": "code",
   "execution_count": 71,
   "id": "14bc37b8-4272-497e-ada7-b13e2c7690b1",
   "metadata": {},
   "outputs": [],
   "source": [
    "nyc.columns = ['Date', 'Temperature', 'Anomaly']"
   ]
  },
  {
   "cell_type": "code",
   "execution_count": 72,
   "id": "67667342-b4df-45c6-8bcb-f6d3d395582e",
   "metadata": {},
   "outputs": [],
   "source": [
    "nyc.Date = nyc.Date.floordiv(100)"
   ]
  },
  {
   "cell_type": "code",
   "execution_count": 73,
   "id": "8dc4a7d8-049b-4ec7-860a-5d03c258bac7",
   "metadata": {},
   "outputs": [
    {
     "data": {
      "text/html": [
       "<div>\n",
       "<style scoped>\n",
       "    .dataframe tbody tr th:only-of-type {\n",
       "        vertical-align: middle;\n",
       "    }\n",
       "\n",
       "    .dataframe tbody tr th {\n",
       "        vertical-align: top;\n",
       "    }\n",
       "\n",
       "    .dataframe thead th {\n",
       "        text-align: right;\n",
       "    }\n",
       "</style>\n",
       "<table border=\"1\" class=\"dataframe\">\n",
       "  <thead>\n",
       "    <tr style=\"text-align: right;\">\n",
       "      <th></th>\n",
       "      <th>Date</th>\n",
       "      <th>Temperature</th>\n",
       "      <th>Anomaly</th>\n",
       "    </tr>\n",
       "  </thead>\n",
       "  <tbody>\n",
       "    <tr>\n",
       "      <th>0</th>\n",
       "      <td>1895</td>\n",
       "      <td>34.2</td>\n",
       "      <td>-3.2</td>\n",
       "    </tr>\n",
       "    <tr>\n",
       "      <th>1</th>\n",
       "      <td>1896</td>\n",
       "      <td>34.7</td>\n",
       "      <td>-2.7</td>\n",
       "    </tr>\n",
       "    <tr>\n",
       "      <th>2</th>\n",
       "      <td>1897</td>\n",
       "      <td>35.5</td>\n",
       "      <td>-1.9</td>\n",
       "    </tr>\n",
       "  </tbody>\n",
       "</table>\n",
       "</div>"
      ],
      "text/plain": [
       "   Date  Temperature  Anomaly\n",
       "0  1895         34.2     -3.2\n",
       "1  1896         34.7     -2.7\n",
       "2  1897         35.5     -1.9"
      ]
     },
     "execution_count": 73,
     "metadata": {},
     "output_type": "execute_result"
    }
   ],
   "source": [
    "nyc.head(3)"
   ]
  },
  {
   "cell_type": "code",
   "execution_count": 74,
   "id": "44bb316c-e633-4780-b086-44c109a36e5c",
   "metadata": {},
   "outputs": [],
   "source": [
    "from sklearn.model_selection import train_test_split"
   ]
  },
  {
   "cell_type": "code",
   "execution_count": 75,
   "id": "3835d6d1-e363-437b-b641-ae447ec34501",
   "metadata": {},
   "outputs": [],
   "source": [
    "X_train, X_test, y_train, y_test = train_test_split(nyc.Date.values.reshape(-1, 1), nyc.Temperature.values, random_state=11)"
   ]
  },
  {
   "cell_type": "code",
   "execution_count": 76,
   "id": "4538c63c-3d67-4edb-8e29-c1cebbec507b",
   "metadata": {},
   "outputs": [
    {
     "data": {
      "text/plain": [
       "(93, 1)"
      ]
     },
     "execution_count": 76,
     "metadata": {},
     "output_type": "execute_result"
    }
   ],
   "source": [
    "X_train.shape"
   ]
  },
  {
   "cell_type": "code",
   "execution_count": 77,
   "id": "40030fd4-5b23-4620-bf78-f79e2c4c4e83",
   "metadata": {},
   "outputs": [
    {
     "data": {
      "text/plain": [
       "(31, 1)"
      ]
     },
     "execution_count": 77,
     "metadata": {},
     "output_type": "execute_result"
    }
   ],
   "source": [
    "X_test.shape"
   ]
  },
  {
   "cell_type": "code",
   "execution_count": 78,
   "id": "8a070d81-3c55-4d2e-8554-23322b61446b",
   "metadata": {},
   "outputs": [],
   "source": [
    "from sklearn.linear_model import LinearRegression"
   ]
  },
  {
   "cell_type": "code",
   "execution_count": 79,
   "id": "815756d8-9b44-4cf5-9c28-b09ce7438614",
   "metadata": {},
   "outputs": [],
   "source": [
    "linear_regression = LinearRegression()"
   ]
  },
  {
   "cell_type": "code",
   "execution_count": 80,
   "id": "6d3dc4cf-182c-487b-93a9-2feb212344be",
   "metadata": {},
   "outputs": [
    {
     "data": {
      "text/html": [
       "<style>#sk-container-id-2 {color: black;background-color: white;}#sk-container-id-2 pre{padding: 0;}#sk-container-id-2 div.sk-toggleable {background-color: white;}#sk-container-id-2 label.sk-toggleable__label {cursor: pointer;display: block;width: 100%;margin-bottom: 0;padding: 0.3em;box-sizing: border-box;text-align: center;}#sk-container-id-2 label.sk-toggleable__label-arrow:before {content: \"▸\";float: left;margin-right: 0.25em;color: #696969;}#sk-container-id-2 label.sk-toggleable__label-arrow:hover:before {color: black;}#sk-container-id-2 div.sk-estimator:hover label.sk-toggleable__label-arrow:before {color: black;}#sk-container-id-2 div.sk-toggleable__content {max-height: 0;max-width: 0;overflow: hidden;text-align: left;background-color: #f0f8ff;}#sk-container-id-2 div.sk-toggleable__content pre {margin: 0.2em;color: black;border-radius: 0.25em;background-color: #f0f8ff;}#sk-container-id-2 input.sk-toggleable__control:checked~div.sk-toggleable__content {max-height: 200px;max-width: 100%;overflow: auto;}#sk-container-id-2 input.sk-toggleable__control:checked~label.sk-toggleable__label-arrow:before {content: \"▾\";}#sk-container-id-2 div.sk-estimator input.sk-toggleable__control:checked~label.sk-toggleable__label {background-color: #d4ebff;}#sk-container-id-2 div.sk-label input.sk-toggleable__control:checked~label.sk-toggleable__label {background-color: #d4ebff;}#sk-container-id-2 input.sk-hidden--visually {border: 0;clip: rect(1px 1px 1px 1px);clip: rect(1px, 1px, 1px, 1px);height: 1px;margin: -1px;overflow: hidden;padding: 0;position: absolute;width: 1px;}#sk-container-id-2 div.sk-estimator {font-family: monospace;background-color: #f0f8ff;border: 1px dotted black;border-radius: 0.25em;box-sizing: border-box;margin-bottom: 0.5em;}#sk-container-id-2 div.sk-estimator:hover {background-color: #d4ebff;}#sk-container-id-2 div.sk-parallel-item::after {content: \"\";width: 100%;border-bottom: 1px solid gray;flex-grow: 1;}#sk-container-id-2 div.sk-label:hover label.sk-toggleable__label {background-color: #d4ebff;}#sk-container-id-2 div.sk-serial::before {content: \"\";position: absolute;border-left: 1px solid gray;box-sizing: border-box;top: 0;bottom: 0;left: 50%;z-index: 0;}#sk-container-id-2 div.sk-serial {display: flex;flex-direction: column;align-items: center;background-color: white;padding-right: 0.2em;padding-left: 0.2em;position: relative;}#sk-container-id-2 div.sk-item {position: relative;z-index: 1;}#sk-container-id-2 div.sk-parallel {display: flex;align-items: stretch;justify-content: center;background-color: white;position: relative;}#sk-container-id-2 div.sk-item::before, #sk-container-id-2 div.sk-parallel-item::before {content: \"\";position: absolute;border-left: 1px solid gray;box-sizing: border-box;top: 0;bottom: 0;left: 50%;z-index: -1;}#sk-container-id-2 div.sk-parallel-item {display: flex;flex-direction: column;z-index: 1;position: relative;background-color: white;}#sk-container-id-2 div.sk-parallel-item:first-child::after {align-self: flex-end;width: 50%;}#sk-container-id-2 div.sk-parallel-item:last-child::after {align-self: flex-start;width: 50%;}#sk-container-id-2 div.sk-parallel-item:only-child::after {width: 0;}#sk-container-id-2 div.sk-dashed-wrapped {border: 1px dashed gray;margin: 0 0.4em 0.5em 0.4em;box-sizing: border-box;padding-bottom: 0.4em;background-color: white;}#sk-container-id-2 div.sk-label label {font-family: monospace;font-weight: bold;display: inline-block;line-height: 1.2em;}#sk-container-id-2 div.sk-label-container {text-align: center;}#sk-container-id-2 div.sk-container {/* jupyter's `normalize.less` sets `[hidden] { display: none; }` but bootstrap.min.css set `[hidden] { display: none !important; }` so we also need the `!important` here to be able to override the default hidden behavior on the sphinx rendered scikit-learn.org. See: https://github.com/scikit-learn/scikit-learn/issues/21755 */display: inline-block !important;position: relative;}#sk-container-id-2 div.sk-text-repr-fallback {display: none;}</style><div id=\"sk-container-id-2\" class=\"sk-top-container\"><div class=\"sk-text-repr-fallback\"><pre>LinearRegression()</pre><b>In a Jupyter environment, please rerun this cell to show the HTML representation or trust the notebook. <br />On GitHub, the HTML representation is unable to render, please try loading this page with nbviewer.org.</b></div><div class=\"sk-container\" hidden><div class=\"sk-item\"><div class=\"sk-estimator sk-toggleable\"><input class=\"sk-toggleable__control sk-hidden--visually\" id=\"sk-estimator-id-2\" type=\"checkbox\" checked><label for=\"sk-estimator-id-2\" class=\"sk-toggleable__label sk-toggleable__label-arrow\">LinearRegression</label><div class=\"sk-toggleable__content\"><pre>LinearRegression()</pre></div></div></div></div></div>"
      ],
      "text/plain": [
       "LinearRegression()"
      ]
     },
     "execution_count": 80,
     "metadata": {},
     "output_type": "execute_result"
    }
   ],
   "source": [
    "linear_regression.fit(X=X_train, y=y_train)"
   ]
  },
  {
   "cell_type": "code",
   "execution_count": 81,
   "id": "20b12ff2-9c54-4592-b387-b4bea3b9d10e",
   "metadata": {},
   "outputs": [
    {
     "data": {
      "text/plain": [
       "array([0.01939167])"
      ]
     },
     "execution_count": 81,
     "metadata": {},
     "output_type": "execute_result"
    }
   ],
   "source": [
    "linear_regression.coef_"
   ]
  },
  {
   "cell_type": "code",
   "execution_count": 82,
   "id": "400923f5-8a49-4844-a9a4-23868ebf3a0b",
   "metadata": {},
   "outputs": [
    {
     "data": {
      "text/plain": [
       "-0.30779820252657686"
      ]
     },
     "execution_count": 82,
     "metadata": {},
     "output_type": "execute_result"
    }
   ],
   "source": [
    "linear_regression.intercept_"
   ]
  },
  {
   "cell_type": "code",
   "execution_count": 83,
   "id": "a0f2177e-c4a3-46f5-ac23-f498317db797",
   "metadata": {},
   "outputs": [],
   "source": [
    "predicted = linear_regression.predict(X_test)"
   ]
  },
  {
   "cell_type": "code",
   "execution_count": 84,
   "id": "b38a478e-cc39-4a8e-8f53-3b62f5368c8d",
   "metadata": {},
   "outputs": [],
   "source": [
    "expected = y_test"
   ]
  },
  {
   "cell_type": "code",
   "execution_count": 86,
   "id": "c82c220b-04c4-423b-95f9-be1fb92a3bf1",
   "metadata": {},
   "outputs": [
    {
     "name": "stdout",
     "output_type": "stream",
     "text": [
      "predicted: 37.86, expected: 31.70\n",
      "predicted: 38.69, expected: 34.80\n",
      "predicted: 37.00, expected: 39.40\n",
      "predicted: 37.25, expected: 45.70\n",
      "predicted: 38.05, expected: 32.30\n",
      "predicted: 37.64, expected: 33.80\n",
      "predicted: 36.94, expected: 39.70\n"
     ]
    }
   ],
   "source": [
    "for p, e in zip(predicted[::5], expected[::5]):\n",
    "    print(f'predicted: {p:.2f}, expected: {e:.2f}')"
   ]
  },
  {
   "cell_type": "code",
   "execution_count": 87,
   "id": "cfc80885-2a41-4026-a9a9-25dcf6de8c0e",
   "metadata": {},
   "outputs": [],
   "source": [
    "predict = (lambda x: linear_regression.coef_ * x + linear_regression.intercept_)"
   ]
  },
  {
   "cell_type": "code",
   "execution_count": 88,
   "id": "3f790cbf-f51d-451c-830a-d64f94159ccd",
   "metadata": {},
   "outputs": [
    {
     "data": {
      "text/plain": [
       "array([38.84399018])"
      ]
     },
     "execution_count": 88,
     "metadata": {},
     "output_type": "execute_result"
    }
   ],
   "source": [
    "predict(2019)"
   ]
  },
  {
   "cell_type": "code",
   "execution_count": 89,
   "id": "c4599925-fba1-4fe4-aeb4-fd01b8132416",
   "metadata": {},
   "outputs": [
    {
     "data": {
      "text/plain": [
       "array([36.34246432])"
      ]
     },
     "execution_count": 89,
     "metadata": {},
     "output_type": "execute_result"
    }
   ],
   "source": [
    "predict(1890)"
   ]
  },
  {
   "cell_type": "code",
   "execution_count": 90,
   "id": "66283a73-3ac7-4867-9722-8dde9ed219b3",
   "metadata": {},
   "outputs": [],
   "source": [
    "import seaborn as sns"
   ]
  },
  {
   "cell_type": "code",
   "execution_count": 91,
   "id": "89d47487-ca5f-43d3-9c0e-35ae1379473b",
   "metadata": {},
   "outputs": [
    {
     "data": {
      "image/png": "[encoded data removed]",
      "text/plain": [
       "<Figure size 640x480 with 1 Axes>"
      ]
     },
     "metadata": {},
     "output_type": "display_data"
    }
   ],
   "source": [
    "axes = sns.scatterplot(data=nyc, x='Date', y='Temperature', hue='Temperature', palette='winter', legend=False)"
   ]
  },
  {
   "cell_type": "code",
   "execution_count": 93,
   "id": "63046b4d-127c-4edc-8a7a-b107f0b0767b",
   "metadata": {},
   "outputs": [
    {
     "data": {
      "text/plain": [
       "(10.0, 70.0)"
      ]
     },
     "execution_count": 93,
     "metadata": {},
     "output_type": "execute_result"
    }
   ],
   "source": [
    "axes.set_ylim(10, 70)"
   ]
  },
  {
   "cell_type": "code",
   "execution_count": 94,
   "id": "1344d118-32a3-44c6-be77-d86659bbe88d",
   "metadata": {},
   "outputs": [],
   "source": [
    "import numpy as np"
   ]
  },
  {
   "cell_type": "code",
   "execution_count": 95,
   "id": "eddffeb0-9e4f-4a63-8d7b-b908e24ec3bc",
   "metadata": {},
   "outputs": [],
   "source": [
    "x = np.array([min(nyc.Date.values), max(nyc.Date.values)])"
   ]
  },
  {
   "cell_type": "code",
   "execution_count": 102,
   "id": "78ce275b-19d3-4f7d-a06a-92d14b05c420",
   "metadata": {},
   "outputs": [],
   "source": [
    "y = predict(x)"
   ]
  },
  {
   "cell_type": "code",
   "execution_count": 103,
   "id": "4f469155-aacf-433e-9b4e-9f3f38584e0e",
   "metadata": {},
   "outputs": [],
   "source": [
    "import matplotlib.pyplot as plt"
   ]
  },
  {
   "cell_type": "code",
   "execution_count": 104,
   "id": "6f3ccca2-1783-4d22-85c1-a0cb44501280",
   "metadata": {},
   "outputs": [],
   "source": [
    "line = plt.plot(x, y)"
   ]
  },
  {
   "cell_type": "code",
   "execution_count": null,
   "id": "e48b840b-cf4f-4745-8a07-04db9efee4a1",
   "metadata": {},
   "outputs": [],
   "source": [
    "predict(1889)"
   ]
  },
  {
   "cell_type": "code",
   "execution_count": null,
   "id": "5b8d77e3-887b-46db-9208-59762211000d",
   "metadata": {},
   "outputs": [],
   "source": [
    "predict(2100)"
   ]
  }
 ],
 "metadata": {
  "kernelspec": {
   "display_name": "Python 3 (ipykernel)",
   "language": "python",
   "name": "python3"
  },
  "language_info": {
   "codemirror_mode": {
    "name": "ipython",
    "version": 3
   },
   "file_extension": ".py",
   "mimetype": "text/x-python",
   "name": "python",
   "nbconvert_exporter": "python",
   "pygments_lexer": "ipython3",
   "version": "3.9.12"
  }
 },
 "nbformat": 4,
 "nbformat_minor": 5
}
